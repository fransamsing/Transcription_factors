{
 "cells": [
  {
   "cell_type": "markdown",
   "metadata": {},
   "source": [
    "# Extracting sequences upstream from differentially expressed genes to identify and count transcription factor binding sites (TFBS)"
   ]
  },
  {
   "cell_type": "markdown",
   "metadata": {},
   "source": [
    "## Overall purpose of the function\n",
    "Build a command-line python program to extract upstream sequences from differentially expressed genes to finds motifs or transcription factor binding sites (TFBS) using oPOSSUM. \n",
    "\n",
    "Link to website:\n",
    "http://opossum.cisreg.ca/cgi-bin/oPOSSUM3/opossum_seq_ssa"
   ]
  },
  {
   "cell_type": "markdown",
   "metadata": {},
   "source": [
    "## What are transcription factors\n",
    "Transcription factors are proteins that regulate the transcription of genes—that is, their copying into RNA, on the way to making a protein.\n",
    "\n",
    "https://www.khanacademy.org/science/biology/gene-regulation/gene-regulation-in-eukaryotes/a/eukaryotic-transcription-factors"
   ]
  },
  {
   "cell_type": "markdown",
   "metadata": {},
   "source": [
    "## How do transcription factors work?\n",
    "\n",
    "A typical transcription factor binds to DNA at a certain target sequence. Once it's bound, the transcription factor makes it either harder or easier for RNA polymerase to bind to the promoter of the gene.\n",
    "\n",
    "Some transcription factors **activate transcription**. For instance, they may help the general transcription factors and/or RNA polymerase bind to the promoter, as shown in the diagram below.\n"
   ]
  },
  {
   "cell_type": "code",
   "execution_count": 1,
   "metadata": {},
   "outputs": [
    {
     "data": {
      "text/html": [
       "<img src=\"https://ka-perseus-images.s3.amazonaws.com/6567f50d30ad3ac65aff1e815caf202b3abd7111.png\"/>"
      ],
      "text/plain": [
       "<IPython.core.display.Image object>"
      ]
     },
     "execution_count": 1,
     "metadata": {},
     "output_type": "execute_result"
    }
   ],
   "source": [
    "from IPython.display import display, Image\n",
    "Image(url = 'https://ka-perseus-images.s3.amazonaws.com/6567f50d30ad3ac65aff1e815caf202b3abd7111.png')"
   ]
  },
  {
   "cell_type": "markdown",
   "metadata": {},
   "source": [
    "Other transcription factors **repress transcription**. This repression can work in a variety of ways. As one example, a repressor may get in the way of the basal transcription factors or RNA polymerase, making it so they can't bind to the promoter or begin transcription."
   ]
  },
  {
   "cell_type": "markdown",
   "metadata": {},
   "source": [
    "## Binding sites\n",
    "\n",
    "A typical transcription factor binds to DNA at a certain target sequence (or motif). Once it's bound, the transcription factor makes it either harder or easier for RNA polymerase to bind to the promoter of the gene, and consequently regulates the amount of messenger RNA (mRNA) produced by the gene. Some transcription factors activate transcription, while others repress transcription.\n",
    " \n",
    "Transcription factor binding sites (TFBS) are often located in the 5’-upstream region of target genes to modulate the rate of gene transcription. DNA binding sites can be thus defined as short DNA sequences (typically 4 to 30 base pairs long) that are specifically bound by one or more DNA-binding proteins or protein complexes."
   ]
  },
  {
   "cell_type": "code",
   "execution_count": 2,
   "metadata": {},
   "outputs": [
    {
     "data": {
      "text/html": [
       "<img src=\"https://ka-perseus-images.s3.amazonaws.com/1ba8fe2b28b3dd5cd79ec75b74982ee87692dc9e.png\"/>"
      ],
      "text/plain": [
       "<IPython.core.display.Image object>"
      ]
     },
     "execution_count": 2,
     "metadata": {},
     "output_type": "execute_result"
    }
   ],
   "source": [
    "Image(url = 'https://ka-perseus-images.s3.amazonaws.com/1ba8fe2b28b3dd5cd79ec75b74982ee87692dc9e.png')"
   ]
  },
  {
   "cell_type": "markdown",
   "metadata": {},
   "source": [
    "The flexibility of DNA is what allows transcription factors at distant binding sites to do their job. The DNA loops like cooked spaghetti to bring far-off binding sites and transcription factors close to general transcription factors or \"mediator\" proteins.\n",
    "\n",
    "In the cartoon above, an activating transcription factor bound at a far-away site helps RNA polymerase bind to the promoter and start transcribing."
   ]
  },
  {
   "cell_type": "markdown",
   "metadata": {},
   "source": [
    "To find and count TFBS my function will extract target genes and background genes in a fasta format by performing the following tasks:\n",
    "1. Filter differentially expressed genes by logFC values\n",
    "2. Extract features and coordinates from gff file\n",
    "3. Extract background sequences from genome\n",
    "4. Extract target sequences from genome"
   ]
  },
  {
   "cell_type": "markdown",
   "metadata": {},
   "source": [
    "### 1. Filter differentially expressed genes by logFC values"
   ]
  },
  {
   "cell_type": "code",
   "execution_count": 6,
   "metadata": {
    "collapsed": true
   },
   "outputs": [],
   "source": [
    "import pandas as pd\n",
    "import numpy as np\n",
    "import math"
   ]
  },
  {
   "cell_type": "code",
   "execution_count": 7,
   "metadata": {
    "collapsed": true
   },
   "outputs": [],
   "source": [
    "# Arguments to pass to first function \n",
    "filepath1 = '/home/sam079/RNAseq-POMV/Results/ControlvsPOMV6_ALL.csv'\n",
    "gene_id1 = 'ENTREZID' ## name of column \n",
    "threshold1 = 2\n",
    "threshold_col_id1 = 'logFC'"
   ]
  },
  {
   "cell_type": "code",
   "execution_count": 8,
   "metadata": {
    "collapsed": true
   },
   "outputs": [],
   "source": [
    "def get_degenes(filepath, gene_id, threshold, threshold_col_id):\n",
    "    genes = pd.read_csv(filepath)\n",
    "    genes = genes.dropna()   \n",
    "    if genes[gene_id].dtypes == float:\n",
    "        genes = genes.astype({gene_id:int})\n",
    "        genes = genes.astype({gene_id:str})\n",
    "        pass\n",
    "    elif genes[gene_id].dtypes == int:\n",
    "        genes = genes.astype({gene_id:str})\n",
    "    else:\n",
    "        print(\"gene names are strings, great!\")\n",
    "    \n",
    "    DEgenes = genes.loc[(genes[threshold_col_id] >= threshold) | (genes[threshold_col_id] <= -threshold)]\n",
    "    DEgenes = DEgenes[[gene_id]]\n",
    "    DEgenes.rename(columns={gene_id:'gene_id'}, inplace=True)\n",
    "    \n",
    "    return DEgenes"
   ]
  },
  {
   "cell_type": "code",
   "execution_count": 9,
   "metadata": {},
   "outputs": [],
   "source": [
    "DEgenes1 = get_degenes(filepath1, gene_id1, threshold1, threshold_col_id1) ## works"
   ]
  },
  {
   "cell_type": "markdown",
   "metadata": {},
   "source": [
    "### 1. Extract features and coordinates from gff file\n",
    "\n",
    "https://www.toptal.com/python/comprehensive-introduction-your-genome-scipy"
   ]
  },
  {
   "cell_type": "code",
   "execution_count": 14,
   "metadata": {
    "collapsed": true
   },
   "outputs": [],
   "source": [
    "import re"
   ]
  },
  {
   "cell_type": "code",
   "execution_count": 15,
   "metadata": {
    "collapsed": true
   },
   "outputs": [],
   "source": [
    "def get_features(gff, feature, search_gff, attribute, coord):\n",
    "    col_names = ['seqid', 'source', 'type', 'start', 'end', 'score', 'strand', 'phase', 'attributes']\n",
    "    mygff = pd.read_csv(gff, sep='\\t', comment='#', low_memory=False, header=None, names=col_names)\n",
    "    CDS = mygff[mygff.type == feature]\n",
    "    CDS = CDS.copy()\n",
    "\n",
    "    RE_GENE_NAME = re.compile(r'({}\\W)(?P<gene_id>.+?)[,;]'.format(search_gff))\n",
    "    def extract_gene_name(attributes_str):\n",
    "        res = RE_GENE_NAME.search(attributes_str)\n",
    "        if res is None:\n",
    "            return ''\n",
    "        else:\n",
    "            return res.group('gene_id')\n",
    "    CDS['gene_id'] = CDS.attributes.apply(extract_gene_name)\n",
    "    \n",
    "    RE_DESC = re.compile(r'({}\\W)(?P<attribute>.+?)[,;]'.format(attribute))\n",
    "    def extract_description(attributes_str):\n",
    "        res = RE_DESC.search(attributes_str)\n",
    "        if res is None:\n",
    "            return ''\n",
    "        else:\n",
    "            return res.group('attribute')\n",
    "    CDS['attribute'] = CDS.attributes.apply(extract_description)\n",
    "\n",
    "    CDS.drop('attributes', axis=1, inplace=True)\n",
    "    \n",
    "    if coord == 'all':\n",
    "        CDS_start_points = CDS\n",
    "    elif coord == 'min':\n",
    "        CDS_start_points = (CDS.groupby(['seqid', 'gene_id', 'attribute', 'strand'], as_index=False)['start'].min())\n",
    "    elif coord == 'max':\n",
    "        CDS_start_points = (CDS.groupby(['seqid', 'gene_id', 'attribute', 'strand'], as_index=False)['start'].max())\n",
    "    elif coord == 'median':\n",
    "        CDS_start_points = (CDS.groupby(['seqid', 'gene_id', 'attribute', 'strand'], as_index=False)['start'].median())\n",
    "        CDS_start_points = CDS_start_points.astype({'start':int})\n",
    "    else:\n",
    "        print('Non valid argument given to extraxt gene coordinates for start position')\n",
    "      \n",
    "    return CDS_start_points"
   ]
  },
  {
   "cell_type": "code",
   "execution_count": 16,
   "metadata": {
    "collapsed": true
   },
   "outputs": [],
   "source": [
    "gff1 = '/OSM/CBR/AF_POMV/work/POMV_RNA_seq/Genomes/Salmo_salar/GCF_000233375.1_ICSASG_v2_genomic.gff'\n",
    "feature1 = 'CDS' #what feature to extract from the g\n",
    "search_gff1 = 'GeneID'\n",
    "attribute1 = 'product'\n",
    "coord = 'min'"
   ]
  },
  {
   "cell_type": "code",
   "execution_count": 17,
   "metadata": {},
   "outputs": [],
   "source": [
    "CDS_start_points1 = get_features(gff1, feature1, search_gff1, attribute1, coord)"
   ]
  },
  {
   "cell_type": "code",
   "execution_count": 21,
   "metadata": {},
   "outputs": [
    {
     "data": {
      "text/plain": [
       "<bound method NDFrame.head of                 seqid    gene_id  \\\n",
       "0         NC_001960.1     808305   \n",
       "1         NC_001960.1     808306   \n",
       "2         NC_001960.1     808307   \n",
       "3         NC_001960.1     808308   \n",
       "4         NC_001960.1     808309   \n",
       "5         NC_001960.1     808310   \n",
       "6         NC_001960.1     808311   \n",
       "7         NC_001960.1     808312   \n",
       "8         NC_001960.1     808313   \n",
       "9         NC_001960.1     808314   \n",
       "10        NC_001960.1     808315   \n",
       "11        NC_001960.1     808316   \n",
       "12        NC_001960.1     808317   \n",
       "13        NC_027300.1  100136365   \n",
       "14        NC_027300.1  100136392   \n",
       "15        NC_027300.1  100136429   \n",
       "16        NC_027300.1  100136429   \n",
       "17        NC_027300.1  100136433   \n",
       "18        NC_027300.1  100136438   \n",
       "19        NC_027300.1  100136438   \n",
       "20        NC_027300.1  100136442   \n",
       "21        NC_027300.1  100136442   \n",
       "22        NC_027300.1  100136561   \n",
       "23        NC_027300.1  100136575   \n",
       "24        NC_027300.1  100136583   \n",
       "25        NC_027300.1  100136797   \n",
       "26        NC_027300.1  100136797   \n",
       "27        NC_027300.1  100136908   \n",
       "28        NC_027300.1  100136908   \n",
       "29        NC_027300.1  100137053   \n",
       "...               ...        ...   \n",
       "85125  NW_012567748.1  106600312   \n",
       "85126  NW_012567897.1  106600313   \n",
       "85127  NW_012568448.1  106600316   \n",
       "85128  NW_012568616.1  106600317   \n",
       "85129  NW_012568861.1  106600318   \n",
       "85130  NW_012568937.1  106600321   \n",
       "85131  NW_012569097.1  106600324   \n",
       "85132  NW_012569447.1  106600327   \n",
       "85133  NW_012569537.1  106600328   \n",
       "85134  NW_012569808.1  106600333   \n",
       "85135  NW_012570028.1  106600334   \n",
       "85136  NW_012570059.1  106600336   \n",
       "85137  NW_012570119.1  106600337   \n",
       "85138  NW_012570673.1  106600339   \n",
       "85139  NW_012570694.1  106600341   \n",
       "85140  NW_012570785.1  106600344   \n",
       "85141  NW_012570967.1  106600347   \n",
       "85142  NW_012571483.1  106600348   \n",
       "85143  NW_012571894.1  106600350   \n",
       "85144  NW_012571910.1  106600351   \n",
       "85145  NW_012572218.1  106600356   \n",
       "85146  NW_012572276.1  106600358   \n",
       "85147  NW_012572314.1  106600359   \n",
       "85148  NW_012572353.1  106600360   \n",
       "85149  NW_012572806.1  106600363   \n",
       "85150  NW_012573157.1  106600368   \n",
       "85151  NW_012573166.1  106600369   \n",
       "85152  NW_012573284.1  106600373   \n",
       "85153  NW_012574052.1  106600377   \n",
       "85154  NW_012574369.1  106600379   \n",
       "\n",
       "                                               attribute strand      start  \n",
       "0                           NADH dehydrogenase subunit 4      +      11361  \n",
       "1                                           cytochrome b      +      15384  \n",
       "2                       cytochrome c oxidase subunit III      +       9797  \n",
       "3                           NADH dehydrogenase subunit 3      +      10652  \n",
       "4                           NADH dehydrogenase subunit 5      +      12954  \n",
       "5                              ATP synthase F0 subunit 8      +       8956  \n",
       "6                           NADH dehydrogenase subunit 1      +       3846  \n",
       "7                          NADH dehydrogenase subunit 4L      +      11071  \n",
       "8                              ATP synthase F0 subunit 6      +       9114  \n",
       "9                         cytochrome c oxidase subunit I      +       6476  \n",
       "10                       cytochrome c oxidase subunit II      +       8190  \n",
       "11                          NADH dehydrogenase subunit 2      +       5036  \n",
       "12                          NADH dehydrogenase subunit 6      -      14789  \n",
       "13                                         lysozyme C II      +  150754009  \n",
       "14       V-type proton ATPase subunit B%2C brain isoform      -   56534049  \n",
       "15      very low-density lipoprotein receptor isoform X1      +  117157424  \n",
       "16      very low-density lipoprotein receptor isoform X2      +  117157424  \n",
       "17                   polyunsaturated fatty acid elongase      +   92797698  \n",
       "18                                     RhAG-like protein      -   20733099  \n",
       "19                          rhAG-like protein isoform X1      -   20733099  \n",
       "20           growth hormone receptor isoform 1 precursor      -  129729734  \n",
       "21     growth hormone receptor isoform 1 precursor is...      -  129729734  \n",
       "22                            bile salt-activated lipase      +  124656377  \n",
       "23                             serum albumin 1 precursor      +  101401569  \n",
       "24                                   pentraxin precursor      +   53389007  \n",
       "25     paired-like homeodomain transcription factor 3...      +   56280256  \n",
       "26     paired-like homeodomain transcription factor 3...      +   56280256  \n",
       "27                               Na/K/2Cl co-transporter      -  147535510  \n",
       "28                    Na/K/2Cl co-transporter isoform X1      -  147535510  \n",
       "29                                reticulon-1 isoform X1      +   68848924  \n",
       "...                                                  ...    ...        ...  \n",
       "85125                 troponin T%2C skeletal muscle-like      -        180  \n",
       "85126               alpha-2-macroglobulin-like protein 1      -        130  \n",
       "85127            E3 ubiquitin-protein ligase TRIM39-like      +        287  \n",
       "85128                                  ladderlectin-like      +         45  \n",
       "85129                       hemoglobin subunit beta-like      -        371  \n",
       "85130                  kinetochore protein NDC80 homolog      +        102  \n",
       "85131        zona pellucida sperm-binding protein 4-like      +        283  \n",
       "85132                     transcription factor ETV6-like      +         36  \n",
       "85133    myosin heavy chain%2C fast skeletal muscle-like      -        179  \n",
       "85134               alpha-2-macroglobulin-like protein 1      -        141  \n",
       "85135  pleckstrin homology domain-containing family F...      +        103  \n",
       "85136                       alpha-2-macroglobulin-P-like      +         74  \n",
       "85137                         alpha-2-macroglobulin-like      -         50  \n",
       "85138                 histamine N-methyltransferase-like      +        207  \n",
       "85139                         alpha-2-macroglobulin-like      +        261  \n",
       "85140                     protein unc-93 homolog B1-like      -        198  \n",
       "85141              PR domain zinc finger protein 12-like      +          5  \n",
       "85142    myosin heavy chain%2C fast skeletal muscle-like      +        282  \n",
       "85143              protein O-mannosyl-transferase 2-like      -        126  \n",
       "85144                         alpha-2-macroglobulin-like      -          6  \n",
       "85145                         alpha-2-macroglobulin-like      -         11  \n",
       "85146      NAD(P) transhydrogenase%2C mitochondrial-like      -         53  \n",
       "85147                               protein FAM179B-like      +         27  \n",
       "85148                           ovostatin homolog 2-like      -         74  \n",
       "85149    myosin heavy chain%2C fast skeletal muscle-like      +         14  \n",
       "85150         charged multivesicular body protein 7-like      +        255  \n",
       "85151                         alpha-2-macroglobulin-like      +        180  \n",
       "85152            E3 ubiquitin-protein ligase TRIP12-like      -        220  \n",
       "85153    myosin heavy chain%2C fast skeletal muscle-like      +        127  \n",
       "85154        zona pellucida sperm-binding protein 4-like      +         87  \n",
       "\n",
       "[85155 rows x 5 columns]>"
      ]
     },
     "execution_count": 21,
     "metadata": {},
     "output_type": "execute_result"
    }
   ],
   "source": [
    "CDS_start_points1.head"
   ]
  },
  {
   "cell_type": "code",
   "execution_count": 12,
   "metadata": {
    "collapsed": true
   },
   "outputs": [],
   "source": [
    "def find_genes(gene_name):\n",
    "    gene_name = str(gene_name)\n",
    "    query = CDS_start_points1[CDS_start_points1['ENTREZID'] == gene_name]\n",
    "    print(query)"
   ]
  },
  {
   "cell_type": "code",
   "execution_count": 13,
   "metadata": {},
   "outputs": [
    {
     "name": "stdout",
     "output_type": "stream",
     "text": [
      "             seqid   ENTREZID                                attribute strand  \\\n",
      "39702  NC_027312.1  100380312   Bone morphogenetic protein 1 precursor      -   \n",
      "39703  NC_027312.1  100380312  bone morphogenetic protein 1 isoform X1      -   \n",
      "\n",
      "          start  \n",
      "39702  85846863  \n",
      "39703  85846863  \n"
     ]
    }
   ],
   "source": [
    "find_genes(100380312)"
   ]
  },
  {
   "cell_type": "markdown",
   "metadata": {},
   "source": [
    "### 3. Extract background sequences from genome"
   ]
  },
  {
   "cell_type": "code",
   "execution_count": 20,
   "metadata": {
    "collapsed": true
   },
   "outputs": [],
   "source": [
    "from pyfaidx import Fasta"
   ]
  },
  {
   "cell_type": "code",
   "execution_count": 16,
   "metadata": {
    "collapsed": true
   },
   "outputs": [],
   "source": [
    "def create_background_fasta(CDS_start_points1, genome, background_outfile, upstream_nucl):\n",
    "    genome = Fasta(genome)\n",
    "    CDS_random = CDS_start_points1.sample(500)\n",
    "    outfile = open(background_outfile, \"w\")   \n",
    "    back_list = []\n",
    "    back_dict= {}\n",
    "    \n",
    "    for index, row in CDS_random.iterrows():\n",
    "        genes = row['gene_id']\n",
    "        if row['start'] > upstream_nucl:\n",
    "            sequences = genome[row['seqid']][row['start'] - upstream_nucl:row['start'] + 3]\n",
    "        else:\n",
    "            sequences = genome[row['seqid']][row['start'] - row['start']:row['start']]\n",
    "        back_dict[genes] = sequences\n",
    "        back_list.append(back_dict)\n",
    "        back_dict = {}\n",
    "    \n",
    "    for d in back_list:\n",
    "        for key, value in d.items():\n",
    "            outfile.write(\">\" + key + \" \" + value.fancy_name + \"\\n\" + value.seq + \"\\n\")\n",
    "    \n",
    "    outfile.close() "
   ]
  },
  {
   "cell_type": "code",
   "execution_count": 17,
   "metadata": {
    "collapsed": true
   },
   "outputs": [],
   "source": [
    "genome1 = '/OSM/CBR/AF_POMV/work/POMV_RNA_seq/Genomes/Salmo_salar//GCF_000233375.1_ICSASG_v2_genomic.fn'\n",
    "background_outfile1 = '../Results/background_sequences.txt'\n",
    "upstream_nucl1 = 5000"
   ]
  },
  {
   "cell_type": "code",
   "execution_count": 19,
   "metadata": {
    "collapsed": true
   },
   "outputs": [],
   "source": [
    "#create_background_fasta(CDS_start_points1, gene_id1, genome, background_outfile1, upstream_nucl1)"
   ]
  },
  {
   "cell_type": "code",
   "execution_count": null,
   "metadata": {
    "collapsed": true
   },
   "outputs": [],
   "source": [
    "def create_target_fasta(DEgenes1, CDS_start_points1, genome, target_outfile, upstream_nucl):\n",
    "    genome = Fasta(genome)\n",
    "    outfile = open(target_outfile, \"w\")\n",
    "    newdf = pd.merge(DEgenes1, CDS_start_points1)\n",
    "    seq_list = []\n",
    "    seq_dict= {}\n",
    "\n",
    "    for index, row in newdf.iterrows():\n",
    "        genes = row['gene_id']\n",
    "        if row['start'] > upstream_nucl:\n",
    "            sequences = genome[row['seqid']][row['start'] - upstream_nucl:row['start'] + 3]\n",
    "        else:\n",
    "            sequences = genome[row['seqid']][row['start'] - row['start']:row['start']]\n",
    "        seq_dict[genes] = sequences\n",
    "        seq_list.append(seq_dict)\n",
    "        seq_dict = {}\n",
    "    \n",
    "    for d in seq_list:\n",
    "        for key, value in d.items():\n",
    "            outfile.write(\">\" + key + \" \" + value.fancy_name + \"\\n\" + value.seq + \"\\n\")\n",
    "    \n",
    "    outfile.close() \n",
    "    \n",
    "    return seq_list"
   ]
  },
  {
   "cell_type": "code",
   "execution_count": null,
   "metadata": {
    "collapsed": true
   },
   "outputs": [],
   "source": [
    "target_outfile1 = '../Results/target_sequences.txt'\n",
    "upstream_nucl2 = 5000"
   ]
  },
  {
   "cell_type": "code",
   "execution_count": null,
   "metadata": {
    "collapsed": true
   },
   "outputs": [],
   "source": [
    "#create_target_fasta(DEgenes1, CDS_start_points1, gene_id1, genome, target_outfile1, upstream_nucl2)"
   ]
  },
  {
   "cell_type": "markdown",
   "metadata": {},
   "source": [
    "# OTHER STUFF"
   ]
  },
  {
   "cell_type": "code",
   "execution_count": 143,
   "metadata": {},
   "outputs": [],
   "source": [
    "def extract_gene_sequences(gff, feature, search_gff, genome, query_gene):\n",
    "    col_names = ['seqid', 'source', 'type', 'start', 'end', 'score', 'strand', 'phase', 'attributes']\n",
    "    mygff = pd.read_csv(gff, sep='\\t', comment='#', low_memory=False, header=None, names=col_names)\n",
    "    mygff = mygff[mygff.type == feature]\n",
    "    mygff = mygff.copy()\n",
    "\n",
    "    RE_GENE_NAME = re.compile(r'({}\\W)(?P<gene_id>.+?)[,;]'.format(search_gff))\n",
    "    def extract_gene_name(attributes_str):\n",
    "        res = RE_GENE_NAME.search(attributes_str)\n",
    "        if res is None:\n",
    "            return ''\n",
    "        else:\n",
    "            return res.group('gene_id')\n",
    "    mygff['gene_id'] = mygff.attributes.apply(extract_gene_name)\n",
    "    mygff.drop('attributes', axis=1, inplace=True)\n",
    "    \n",
    "    genome = Fasta(genome)\n",
    "    \n",
    "    mygff_idx = mygff.set_index('gene_id')\n",
    "    \n",
    "    if feature == 'gene':\n",
    "        seqid = mygff_idx.loc[query_gene]['seqid']\n",
    "        start = mygff_idx.loc[query_gene]['start']\n",
    "        end = mygff_idx.loc[query_gene]['end']\n",
    "        sequence = genome[seqid][start:end]\n",
    "        seq_list = sequence\n",
    "    \n",
    "    else:\n",
    "        genes = mygff_idx.loc[query_gene].index\n",
    "        seqid = mygff_idx.loc[query_gene]['seqid']\n",
    "        start = mygff_idx.loc[query_gene]['start']\n",
    "        end = mygff_idx.loc[query_gene]['end']\n",
    "\n",
    "        seq_list = []\n",
    "        seq_dict = {}\n",
    "\n",
    "        for gene, x, y, z in zip(genes, seqid, start, end):\n",
    "            sequence = genome[x][y:z]\n",
    "            seq_dict[gene] = sequence\n",
    "            seq_list.append(seq_dict)\n",
    "            seq_dict = {}\n",
    "    \n",
    "    return seq_list"
   ]
  },
  {
   "cell_type": "code",
   "execution_count": 115,
   "metadata": {},
   "outputs": [],
   "source": [
    "genome1 = '/OSM/CBR/AF_POMV/work/POMV_RNA_seq/Genomes/Salmo_salar//GCF_000233375.1_ICSASG_v2_genomic.fna'"
   ]
  },
  {
   "cell_type": "code",
   "execution_count": 144,
   "metadata": {},
   "outputs": [
    {
     "data": {
      "text/plain": [
       ">NC_027303.1:69623752-69628218\n",
       "CACTGTCAATGAAGACCTGAGTGGATATTAACTTTACAAGGAATCACAGAGGAATAACTTCCCGCTCCATCCAATCAAAAGGAAATACCTGCTTTTAGGCTCAATTACAAATTACCGGGATTAAGCGTCATCATAGCTGTAagtgattttattttattattgcaTGCACTGGGCTACGTGGAAACGTTGTGTTTGTGCTAGTGCTCTTTGTACATATTTATAGCAGATATACTTGTAATTTATAGTATATGCTATTTTCTATTCAATTGACTGGGATTTGTTTTTCCATGTGTGCAGTAGCGTGCGTTTTGTCATTGGGCACATATATCCCACATATTGACAGATCTTATTTACCCTTGACACGAGGCTAGAAGCTAAGTGGTGTGCGCGGTGCGCTCATTTGTGAATTTAACGAGACATGGAACAATGCAGTTATAATTAATGCAGCTTTGCAGTAGTATATTTATGACATTTCAAGAGTTAGTTAAAATGTAAAGTTGCAAGTTTTAGTGGGTCAAGGGTTGCAACACTGTAATTTAGAGGCACTGTAATGCATTGGTCAAAATATGCATGCGCTTGTTCAATGCACGATTAAAGTGTGCGTGGGTGAATACGGCTGTTCGTTCTTTTCAAGAGCTATAGAACCCCGCTCTCTTTAACCTCGAATGCAACATAAATAGCGATATAGCAGCAGTggcggaaaaagtacccaattgtcatacttgactaaaagtaaagataccttaatagaaaatgacccaAGTAAAGAGTTacccaataaaatactacttgagtaaaagcccaaaagtatttggttttaaatatacttaagtatcaaaagtacaagtataaatcatttcatattccttatattaagcaaaccagatggcaccattatattgttttttatttatttatgaatagccactccaacactcattagcatcatttacaaacgtgtttagtgagtctgccagatcagagacatTTTCCTGTGCTGCTAAGTGATCAAAATGTAaacagagaaaatgtatggagtaaaaagtacattattttctatagagatgtagtgaagtaaaaatgatcaaaaaatatatataaaatagtaAAGATACACCAAAATAACTACTTAAgtactactttaaagtatttttactcaagtactttacaccactgtatagTAAAACCGTGCATCTGCTTGAATAAGATAATTAGAACACTTTAAAATAATTTCCGTGTAGTCCTAAAATGCACATGATAGACATATTAGTAGTACTGCTCTCTTTCACTGATTTGCACATATTTCCAGTAATTTGCAGTTGTTGGCAATTGTCATAGTAGCTACATCACACTTCCTGGTCATGAACTTTACTAAGTGCACTAAACATGTGCACTAACTGAGCAGGGTAGTGGGTGGGAGTGACATGCCTGTACATCTACCCCAAATGCCATGTGCCTAAAACTAAGTTTATCTCTTCTCCTTGATCTCCCAGGAACCATGCCTGTGTCTAGGATGAGAATGAGGCCTTGGCTGGAGGATAAGATTGAGTCCAACTCCATCAGTGGTTTGGTGTGGTTGGACAAAGTAAGACTTTCCTGCTCGTCAAACTCATCTAATGATTTTTTTATCTACAAAGACACTGTCATTGTATGAAGAGAGCTCAGTCGAGGCATTGACAACACAAAACATATTTAGTACTATTACCCATGAACAGGACtactcgtcattgtaaataagaatttgttcttaactgacttgcctagttaaataaaggttaaagaaaaaagGAAATAACAACTAAGCATGTACAGGAGACGCTGGGGTGAGAGATAGGAGGCGCTAATTTCAAACCCATTTCTTTGTGGTTTTGTCCAGGACAAGAAGATATTCTCCATCCCATGGAAGCATGCTGCACGTCATGGATGGGACCTGAACAAGGATGCCTGTCTATTCAAGCAATGGGCCATGCACACAGGTGAGCAAATTACACATACCTAGACTACCTAGTGTGGAATAGCCCCTCTTATAATAATGGATTTTTGCTAGATGAACAATATGCACTTCAGCACCTTAGGGTTTTTCAATCTACTTTCTGCATCGTAATAACAATTATATTACTTGTCTGTTGATGCAGGGAAATTCATACAAGGCGAGACTACACCAGACCCTAAGACATGGAAGGCTAATTTCCGCTGTGCAATGAACTCCCTTCCTGACATCAAGGAGGTGAAAGACAAAAGCATCAACAGAGGGTCTGGAGCGGTGCGCGTTTACAAAATGCTGAACGTCAGCACAAAGCCAAATAACAAGAGGTCAAAAGCAAAGGATGCAAAGAAAAATGACAAGGTTATATTACTTTTTAACTGCAACAAATCTTCAGAATCCCTTTATCATCACTTGTAGTACTGTTTTCCCTCTGCTGAATAAAGAGCGGTGCATGTATATTTAGCTGGCTGTATCCAGACCAGTGACAACAGAGATCAATATTACAATCTTATTTAATGTTTTGCTGTTTTCTCCTCTAGGGGTTAAAGATCAAGACAGAGGAAATGGACTACAGCGCAACCCATTGCCTCGAGGATCgcaacaccaacacacacctgcaGGAGGACAGAAAGATACAGGAGAACAAAGTCGACAGCTCAGACAACCTAGGTGAGACCATCACAGCAGCGTCATATCTTGACGGCTCTGTCAATGACCCTGATGTTCCAGACTTTATCACCTCTGTGGAAataggaccagacagcatcaactACTACTCGTCTTTCCAAGTGTCACCGGATCACTCCACAGGTAAGATTAAGCTTGCTTGATGCTTGGGTTTGATTcagctctgtgtgtgagtgtgggctGCAAATGTAATTGAGGTTTGCGTAATGCTCATGTCAATTTTCCTTAAACTTTACAGACTATGAAGATTTGAACGAAGAAACACTTATTGAGGTAAGTTTGTCTCTACCAGTACATGTTCAGTGTGCTTTTTTCATTATCAGGAATACCCATCTTTACCAGATATTCTACATTGAAATCCAAAAATTCTAACACAGTTAAACCAAGCAGAAATTCGACCAGGCTCATCCCCTGTGTTTTGCTCTTTCAGATTGCAAAGCATTGGGAGCAATTGGAGCTGCCAGGCAGTGTAAACAGCAAGGGGTTCCTGAGCAATGAAGAAGCTACAGTAGAGTCATACAACACCGCAGAGTCTAACCACAGTCCAGAGAGCCAATGGAGTGATAACTCAGGTAAATGATGCTAGAGGGAATCTGGCTGTTtgttatactgtagtattcaACGGCAGGGTTTCACCATGTCTGCATGTATTGTCTTTGTGAAACATTTGCTAGTGAAAATGAAAGACTACAACAGGAAAATAAAACTGATGGAATCCAAGGGCCTTTAGAAACATATGAGAAAAAAAGTATATGTGTCAGACGATTGAGGAACGCATTTCAGTCAATAGTATTTCCTTCTCATATGCATAAGGTGTGAAACATAATAATGCATGTAAGGTAAACAGATGGCAGAGATAAGAACTGAATGATTACACCAGAGCCTGAGTTTCTGTTTTCTTCTTCATTACATCAAAATTCTCTAACAAGGCTGCTCTCAACATTGCACAAGATAGAGGAAATCTGTAACTTCATTCAGCTGTGTTTCTCTTGCATGACTGACCAGCTTTGTTTTGTTTGCCATATAGGGTCGGAAATACAGCTGCGGTTATACACAGAACTGAGCCCAGGACTACCAATGGCAGAAGATCTCGTCTCTTACACCGACCACTGGGCTCTGAACAACACACTGAACAACAGCACGACCAGTTATCTTCAACAGATCTCTTGCCCACTTTGAGCCATGCCTGGATCTCCTGCCCACTCTAAGCCCTGCCTACTCTTTCTCAGACACTGTTCAGAAACAAAAGACTTCACTCTGACTCTCTAgtctaaaatactttttttatttcgTGACCTCTGAACCTTAAGCTACACCATCTTTGCCATTTGACCTCTGCTGTTCTGTGACAGTTGGTGGATCTCTGAAGTGATAGCATTTTTGACAGGAAGTAGACATTTTTTAACCAAGTGTCATGCTCTCTACTGTGTTTCTAGTCTTTGTTATATCATTGTGCTCATAGCTGTATTGATAATTTACAAGATCCATAGTCGATATGAGGGTACCTATCCCATTGCCAGCACAACACAGAAACTCTCCAATTGAGTGGGCAATACGATATCAGTTTTTTCTGTTTTACTGTGAAAAGAAATTCCGTTATTTACACTTGTATATAGCTGTATATTCCTGAACAATAATCATTCATGACAAACTATTATGAAAAAAATGTCTGTTCATTTGGTGAAAAGTCTTAAAGATGTACTGTTTTGTGTATTGTATCTGTAAATACTGTATTTGTATTGAATATGTGTGTTGTGGTTTgttttatataaaataaaaaaaataccaaCTTA"
      ]
     },
     "execution_count": 144,
     "metadata": {},
     "output_type": "execute_result"
    }
   ],
   "source": [
    "extract_gene_sequences(gff1, 'gene', 'GeneID', genome1, '100846970')"
   ]
  },
  {
   "cell_type": "code",
   "execution_count": 132,
   "metadata": {},
   "outputs": [],
   "source": [
    "col_names = ['seqid', 'source', 'type', 'start', 'end', 'score', 'strand', 'phase', 'attributes']\n",
    "mygff = pd.read_csv(gff1, sep='\\t', comment='#', low_memory=False, header=None, names=col_names)\n",
    "mygff = mygff[mygff.type == 'CDS']\n",
    "mygff = mygff.copy()\n",
    "\n",
    "RE_GENE_NAME = re.compile(r'({}\\W)(?P<gene_id>.+?)[,;]'.format('GeneID'))\n",
    "def extract_gene_name(attributes_str):\n",
    "    res = RE_GENE_NAME.search(attributes_str)\n",
    "    if res is None:\n",
    "        return ''\n",
    "    else:\n",
    "        return res.group('gene_id')\n",
    "\n",
    "\n",
    "    \n",
    "\n",
    "mygff['gene_id'] = mygff.attributes.apply(extract_gene_name)\n",
    "mygff.drop('attributes', axis=1, inplace=True)\n",
    "mygff_idx = mygff.set_index('gene_id')"
   ]
  },
  {
   "cell_type": "code",
   "execution_count": 133,
   "metadata": {
    "collapsed": true
   },
   "outputs": [],
   "source": [
    "query_gene = '100196051'"
   ]
  },
  {
   "cell_type": "code",
   "execution_count": 134,
   "metadata": {},
   "outputs": [
    {
     "data": {
      "text/html": [
       "<div>\n",
       "<style scoped>\n",
       "    .dataframe tbody tr th:only-of-type {\n",
       "        vertical-align: middle;\n",
       "    }\n",
       "\n",
       "    .dataframe tbody tr th {\n",
       "        vertical-align: top;\n",
       "    }\n",
       "\n",
       "    .dataframe thead th {\n",
       "        text-align: right;\n",
       "    }\n",
       "</style>\n",
       "<table border=\"1\" class=\"dataframe\">\n",
       "  <thead>\n",
       "    <tr style=\"text-align: right;\">\n",
       "      <th></th>\n",
       "      <th>seqid</th>\n",
       "      <th>source</th>\n",
       "      <th>type</th>\n",
       "      <th>start</th>\n",
       "      <th>end</th>\n",
       "      <th>score</th>\n",
       "      <th>strand</th>\n",
       "      <th>phase</th>\n",
       "    </tr>\n",
       "    <tr>\n",
       "      <th>gene_id</th>\n",
       "      <th></th>\n",
       "      <th></th>\n",
       "      <th></th>\n",
       "      <th></th>\n",
       "      <th></th>\n",
       "      <th></th>\n",
       "      <th></th>\n",
       "      <th></th>\n",
       "    </tr>\n",
       "  </thead>\n",
       "  <tbody>\n",
       "    <tr>\n",
       "      <th>100196051</th>\n",
       "      <td>NC_027320.1</td>\n",
       "      <td>BestRefSeq</td>\n",
       "      <td>CDS</td>\n",
       "      <td>17643150</td>\n",
       "      <td>17643189</td>\n",
       "      <td>.</td>\n",
       "      <td>-</td>\n",
       "      <td>0</td>\n",
       "    </tr>\n",
       "    <tr>\n",
       "      <th>100196051</th>\n",
       "      <td>NC_027320.1</td>\n",
       "      <td>BestRefSeq</td>\n",
       "      <td>CDS</td>\n",
       "      <td>17642541</td>\n",
       "      <td>17642664</td>\n",
       "      <td>.</td>\n",
       "      <td>-</td>\n",
       "      <td>2</td>\n",
       "    </tr>\n",
       "    <tr>\n",
       "      <th>100196051</th>\n",
       "      <td>NC_027320.1</td>\n",
       "      <td>BestRefSeq</td>\n",
       "      <td>CDS</td>\n",
       "      <td>17641533</td>\n",
       "      <td>17641708</td>\n",
       "      <td>.</td>\n",
       "      <td>-</td>\n",
       "      <td>1</td>\n",
       "    </tr>\n",
       "    <tr>\n",
       "      <th>100196051</th>\n",
       "      <td>NC_027320.1</td>\n",
       "      <td>BestRefSeq</td>\n",
       "      <td>CDS</td>\n",
       "      <td>17641137</td>\n",
       "      <td>17641300</td>\n",
       "      <td>.</td>\n",
       "      <td>-</td>\n",
       "      <td>2</td>\n",
       "    </tr>\n",
       "    <tr>\n",
       "      <th>100196051</th>\n",
       "      <td>NC_027320.1</td>\n",
       "      <td>BestRefSeq</td>\n",
       "      <td>CDS</td>\n",
       "      <td>17640003</td>\n",
       "      <td>17640162</td>\n",
       "      <td>.</td>\n",
       "      <td>-</td>\n",
       "      <td>0</td>\n",
       "    </tr>\n",
       "    <tr>\n",
       "      <th>100196051</th>\n",
       "      <td>NC_027320.1</td>\n",
       "      <td>BestRefSeq</td>\n",
       "      <td>CDS</td>\n",
       "      <td>17639714</td>\n",
       "      <td>17639829</td>\n",
       "      <td>.</td>\n",
       "      <td>-</td>\n",
       "      <td>2</td>\n",
       "    </tr>\n",
       "    <tr>\n",
       "      <th>100196051</th>\n",
       "      <td>NC_027320.1</td>\n",
       "      <td>BestRefSeq</td>\n",
       "      <td>CDS</td>\n",
       "      <td>17635572</td>\n",
       "      <td>17635601</td>\n",
       "      <td>.</td>\n",
       "      <td>-</td>\n",
       "      <td>0</td>\n",
       "    </tr>\n",
       "  </tbody>\n",
       "</table>\n",
       "</div>"
      ],
      "text/plain": [
       "                 seqid      source type     start       end score strand phase\n",
       "gene_id                                                                       \n",
       "100196051  NC_027320.1  BestRefSeq  CDS  17643150  17643189     .      -     0\n",
       "100196051  NC_027320.1  BestRefSeq  CDS  17642541  17642664     .      -     2\n",
       "100196051  NC_027320.1  BestRefSeq  CDS  17641533  17641708     .      -     1\n",
       "100196051  NC_027320.1  BestRefSeq  CDS  17641137  17641300     .      -     2\n",
       "100196051  NC_027320.1  BestRefSeq  CDS  17640003  17640162     .      -     0\n",
       "100196051  NC_027320.1  BestRefSeq  CDS  17639714  17639829     .      -     2\n",
       "100196051  NC_027320.1  BestRefSeq  CDS  17635572  17635601     .      -     0"
      ]
     },
     "execution_count": 134,
     "metadata": {},
     "output_type": "execute_result"
    }
   ],
   "source": [
    "mygff_idx.loc[query_gene]"
   ]
  },
  {
   "cell_type": "code",
   "execution_count": 137,
   "metadata": {},
   "outputs": [
    {
     "ename": "SyntaxError",
     "evalue": "'return' outside function (<ipython-input-137-38bb5a777501>, line 18)",
     "output_type": "error",
     "traceback": [
      "\u001b[0;36m  File \u001b[0;32m\"<ipython-input-137-38bb5a777501>\"\u001b[0;36m, line \u001b[0;32m18\u001b[0m\n\u001b[0;31m    return seq_dict\u001b[0m\n\u001b[0m                   ^\u001b[0m\n\u001b[0;31mSyntaxError\u001b[0m\u001b[0;31m:\u001b[0m 'return' outside function\n"
     ]
    }
   ],
   "source": [
    "genes = mygff_idx.loc[query_gene].index\n",
    "\n",
    "seqid = mygff_idx.loc[query_gene]['seqid']\n",
    "start = mygff_idx.loc[query_gene]['start']\n",
    "end = mygff_idx.loc[query_gene]['end']\n",
    "\n",
    "genome = Fasta(genome1)\n",
    "\n",
    "seq_list = []\n",
    "seq_dict = {}\n",
    "\n",
    "for gene, x, y, z in zip(genes, seqid, start, end):\n",
    "    sequence = genome[x][y:z]\n",
    "    seq_dict[gene] = sequence\n",
    "    seq_list.append(seq_dict)\n",
    "    seq_dict = {}"
   ]
  },
  {
   "cell_type": "markdown",
   "metadata": {},
   "source": [
    "### 3. Find and count transcription factor binding sites (TFBSs) in the extracted sequences"
   ]
  },
  {
   "cell_type": "markdown",
   "metadata": {},
   "source": [
    "https://biopython.readthedocs.io/en/latest/Tutorial/chapter_motifs.html"
   ]
  },
  {
   "cell_type": "code",
   "execution_count": 39,
   "metadata": {
    "collapsed": true
   },
   "outputs": [],
   "source": [
    "from Bio import motifs"
   ]
  },
  {
   "cell_type": "code",
   "execution_count": 49,
   "metadata": {
    "collapsed": true
   },
   "outputs": [],
   "source": [
    "m1 = motifs.read(open(\"../Data/MA0051.1.sites\"), \"sites\")"
   ]
  },
  {
   "cell_type": "code",
   "execution_count": 50,
   "metadata": {},
   "outputs": [
    {
     "data": {
      "text/plain": [
       "{'G': [7, 10, 0, 0, 0, 10, 0, 12, 0, 0, 0, 6, 2, 3, 2, 1, 1, 1],\n",
       " 'A': [0, 2, 12, 11, 12, 2, 0, 0, 12, 12, 12, 0, 0, 5, 6, 6, 5, 3],\n",
       " 'T': [1, 0, 0, 1, 0, 0, 6, 0, 0, 0, 0, 0, 3, 2, 4, 4, 4, 2],\n",
       " 'C': [4, 0, 0, 0, 0, 0, 6, 0, 0, 0, 0, 6, 7, 2, 0, 1, 2, 6]}"
      ]
     },
     "execution_count": 50,
     "metadata": {},
     "output_type": "execute_result"
    }
   ],
   "source": [
    "m1.counts"
   ]
  },
  {
   "cell_type": "code",
   "execution_count": 51,
   "metadata": {
    "collapsed": true
   },
   "outputs": [],
   "source": [
    "count = 0\n",
    "for d in seq_list:\n",
    "    for key, value in d.items():\n",
    "        for pos, motif in m1.instances.search(d[key]):\n",
    "            if value.fancy_name == value.fancy_name:\n",
    "                count =+ 1\n",
    "            print(value.fancy_name, key, pos, motif, count)"
   ]
  },
  {
   "cell_type": "code",
   "execution_count": null,
   "metadata": {
    "collapsed": true
   },
   "outputs": [],
   "source": []
  },
  {
   "cell_type": "code",
   "execution_count": null,
   "metadata": {
    "collapsed": true
   },
   "outputs": [],
   "source": []
  },
  {
   "cell_type": "code",
   "execution_count": null,
   "metadata": {
    "collapsed": true
   },
   "outputs": [],
   "source": []
  }
 ],
 "metadata": {
  "kernelspec": {
   "display_name": "Python 3",
   "language": "python",
   "name": "python3"
  },
  "language_info": {
   "codemirror_mode": {
    "name": "ipython",
    "version": 3
   },
   "file_extension": ".py",
   "mimetype": "text/x-python",
   "name": "python",
   "nbconvert_exporter": "python",
   "pygments_lexer": "ipython3",
   "version": "3.6.1"
  }
 },
 "nbformat": 4,
 "nbformat_minor": 2
}
