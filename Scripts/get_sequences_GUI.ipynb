{
 "cells": [
  {
   "cell_type": "markdown",
   "metadata": {},
   "source": [
    "# Extract upstream sequences from differentially expressed genes to find TFBS"
   ]
  },
  {
   "cell_type": "markdown",
   "metadata": {},
   "source": [
    "## Overall purpose of the function\n",
    "\n",
    "Extract the upstream sequences from differentially expressed genes to find transcription factor binding sites (TFBS) using oPPOSSUM.\n",
    "\n",
    "**The basic inputs of the function include:**\n",
    "1. csv file with differentially expressed genes (e.g. output from Limma-Voom, EdgeR or DESeq)\n",
    "2. reference genome\n",
    "3. gff annotation file\n",
    "\n",
    "**The outputs from this function are:**\n",
    "1. fasta file with upstream **background sequences** from random genes in the genome\n",
    "2. fasta file with upstream **target sequences** from differentially expressed genes \n",
    "\n",
    "The background and target sequences can be used to query servers such as oPOSSUM to find TFBS.\n",
    "\n",
    "Link to oPOSSUM website: http://opossum.cisreg.ca/cgi-bin/oPOSSUM3/opossum_seq_ssa"
   ]
  },
  {
   "cell_type": "markdown",
   "metadata": {},
   "source": [
    "## What are transcription factors?\n",
    "Transcription factors are proteins that regulate the transcription of genes—that is, their copying into RNA, on the way to making a protein.\n",
    "\n",
    "https://www.khanacademy.org/science/biology/gene-regulation/gene-regulation-in-eukaryotes/a/eukaryotic-transcription-factors"
   ]
  },
  {
   "cell_type": "markdown",
   "metadata": {},
   "source": [
    "## How do transcription factors work?\n",
    "A typical transcription factor binds to DNA at a certain target sequence. Once it's bound, the transcription factor makes it either harder or easier for RNA polymerase to bind to the promoter of the gene.\n",
    "\n",
    "Some transcription factors activate transcription. For instance, they may help the general transcription factors and/or RNA polymerase bind to the promoter, as shown in the diagram below."
   ]
  },
  {
   "cell_type": "code",
   "execution_count": 13,
   "metadata": {},
   "outputs": [
    {
     "data": {
      "text/html": [
       "<img src=\"https://ka-perseus-images.s3.amazonaws.com/6567f50d30ad3ac65aff1e815caf202b3abd7111.png\"/>"
      ],
      "text/plain": [
       "<IPython.core.display.Image object>"
      ]
     },
     "execution_count": 13,
     "metadata": {},
     "output_type": "execute_result"
    }
   ],
   "source": [
    "from IPython.display import display, Image\n",
    "Image(url = 'https://ka-perseus-images.s3.amazonaws.com/6567f50d30ad3ac65aff1e815caf202b3abd7111.png')"
   ]
  },
  {
   "cell_type": "markdown",
   "metadata": {},
   "source": [
    "## Transcription factor binding sites (TFBS)\n",
    "\n",
    "A typical transcription factor binds to DNA at a certain target sequence (or motif). Once it's bound, the transcription factor makes it either harder or easier for RNA polymerase to bind to the promoter of the gene, and consequently regulates the amount of messenger RNA (mRNA) produced by the gene. Some transcription factors activate transcription, while others repress transcription.\n",
    "\n",
    "Transcription factor binding sites (TFBS) are often located in the 5’-upstream region of target genes to modulate the rate of gene transcription. DNA binding sites can be thus defined as short DNA sequences (typically 4 to 30 base pairs long) that are specifically bound by one or more DNA-binding proteins or protein complexes."
   ]
  },
  {
   "cell_type": "markdown",
   "metadata": {},
   "source": [
    "# Steps"
   ]
  },
  {
   "cell_type": "markdown",
   "metadata": {},
   "source": [
    "## 1. Log and filter differentially expressed genes using a threshold value"
   ]
  },
  {
   "cell_type": "code",
   "execution_count": 43,
   "metadata": {},
   "outputs": [],
   "source": [
    "# Import the widgets\n",
    "from ipywidgets import widgets, interact, interactive, Button, Layout\n",
    "# Import the display function for explicitly displaying widgets in the notebook\n",
    "from IPython.display import display, clear_output"
   ]
  },
  {
   "cell_type": "code",
   "execution_count": 76,
   "metadata": {},
   "outputs": [],
   "source": [
    "import pandas as pd\n",
    "import numpy as np\n",
    "import math\n",
    "\n",
    "def get_degenes(filepath, gene_id, threshold, threshold_col_id):\n",
    "    genes = pd.read_csv(filepath)\n",
    "    genes = genes.dropna()   \n",
    "    if genes[gene_id].dtypes == float:\n",
    "        genes = genes.astype({gene_id:int})\n",
    "        genes = genes.astype({gene_id:str})\n",
    "        pass\n",
    "    elif genes[gene_id].dtypes == int:\n",
    "        genes = genes.astype({gene_id:str})\n",
    "    else:\n",
    "        print(\"gene names are strings, great!\")\n",
    "    \n",
    "    DEgenes = genes.loc[(genes[threshold_col_id] >= threshold) | (genes[threshold_col_id] <= -threshold)]\n",
    "    DEgenes = DEgenes[[gene_id]]\n",
    "    DEgenes.rename(columns={gene_id:'gene_id'}, inplace=True)\n",
    "    \n",
    "    return DEgenes"
   ]
  },
  {
   "cell_type": "code",
   "execution_count": 45,
   "metadata": {},
   "outputs": [
    {
     "data": {
      "application/vnd.jupyter.widget-view+json": {
       "model_id": "f9b31443ec454f7894d9957017a8d52b",
       "version_major": 2,
       "version_minor": 0
      },
      "text/plain": [
       "VBox(children=(Text(value='', description='Filepath:'), Text(value='ENTREZID', description='Gene ID:'), Text(v…"
      ]
     },
     "metadata": {},
     "output_type": "display_data"
    }
   ],
   "source": [
    "## Function parameters \n",
    "style = {'description_width': 'initial'}\n",
    "#filepath = widgets.Text(value = '/Volumes/HOME_INTEL/RNAseq-POMV/Results/ControlvsPOMV6_ALL.csv', description='Filepath:',disabled=False)\n",
    "\n",
    "filepath = widgets.Text(value = '', description='Filepath:',disabled=False)\n",
    "\n",
    "gene_id = widgets.Text(value = 'ENTREZID', description='Gene ID:', disabled=False)\n",
    "\n",
    "threshold_col_id = widgets.Text(value = 'logFC', description='Threshold column ID:', disabled=False, style=style)\n",
    "\n",
    "threshold = widgets.FloatSlider(value=2.0, min=0.5, max=10.0, step=0.5, description='Threshold', disabled=False, continuous_update=False, orientation='horizontal', readout=True, readout_format='.1f', style=style)\n",
    "threshold.style.handle_color = 'lightblue'\n",
    "\n",
    "ui1 = widgets.VBox([filepath, gene_id, threshold_col_id, threshold])\n",
    "\n",
    "display(ui1)"
   ]
  },
  {
   "cell_type": "code",
   "execution_count": 79,
   "metadata": {},
   "outputs": [
    {
     "data": {
      "application/vnd.jupyter.widget-view+json": {
       "model_id": "9a06d3b706284340963d20bfa142612c",
       "version_major": 2,
       "version_minor": 0
      },
      "text/plain": [
       "Button(button_style='info', description='Filter Genes', layout=Layout(height='40px', width='30%'), style=Butto…"
      ]
     },
     "metadata": {},
     "output_type": "display_data"
    },
    {
     "data": {
      "application/vnd.jupyter.widget-view+json": {
       "model_id": "98ad3a9b53f244d69720a3794e896b18",
       "version_major": 2,
       "version_minor": 0
      },
      "text/plain": [
       "Output()"
      ]
     },
     "metadata": {},
     "output_type": "display_data"
    }
   ],
   "source": [
    "button1 = widgets.Button(description=\"Filter Genes\", layout=Layout(width='30%', height='40px'), button_style = 'info')\n",
    "out1=widgets.Output()\n",
    "\n",
    "def on_button_clicked(button1): \n",
    "    \n",
    "    if filepath.value == '':\n",
    "        with out1:\n",
    "            clear_output(wait = True)\n",
    "            print(\"Filepath to differentially expressed genes not provided\")\n",
    "            pass\n",
    "    \n",
    "    else: \n",
    "        with out1: \n",
    "            clear_output(wait = True)\n",
    "            DEgenes = get_degenes(filepath.value, gene_id.value, threshold.value, threshold_col_id.value)\n",
    "            print(\"Total number of differentially expressed genes:\", len(DEgenes))\n",
    "\n",
    "button1.on_click(on_button_clicked)\n",
    "\n",
    "display(button1, out1)"
   ]
  },
  {
   "cell_type": "code",
   "execution_count": 47,
   "metadata": {},
   "outputs": [],
   "source": [
    "if filepath.value == '':\n",
    "    pass\n",
    "else:\n",
    "    DEgenes1 = get_degenes(filepath.value, gene_id.value, threshold.value, threshold_col_id.value)"
   ]
  },
  {
   "cell_type": "markdown",
   "metadata": {},
   "source": [
    "## 2. Extract features and coordinates from the GFF file"
   ]
  },
  {
   "cell_type": "code",
   "execution_count": 87,
   "metadata": {},
   "outputs": [],
   "source": [
    "import re\n",
    "\n",
    "def get_features(gff, feature, search_gff, attribute, coord):\n",
    "    col_names = ['seqid', 'source', 'type', 'start', 'end', 'score', 'strand', 'phase', 'attributes']\n",
    "    mygff = pd.read_csv(gff, sep='\\t', comment='#', low_memory=False, header=None, names=col_names)\n",
    "    CDS = mygff[mygff.type == feature]\n",
    "    CDS = CDS.copy()\n",
    "\n",
    "    RE_GENE_NAME = re.compile(r'({}\\W)(?P<gene_id>.+?)[,;]'.format(search_gff))\n",
    "    def extract_gene_name(attributes_str):\n",
    "        res = RE_GENE_NAME.search(attributes_str)\n",
    "        if res is None:\n",
    "            return ''\n",
    "        else:\n",
    "            return res.group('gene_id')\n",
    "    CDS['gene_id'] = CDS.attributes.apply(extract_gene_name)\n",
    "    \n",
    "    RE_DESC = re.compile(r'({}\\W)(?P<attribute>.+?)[,;]'.format(attribute))\n",
    "    def extract_description(attributes_str):\n",
    "        res = RE_DESC.search(attributes_str)\n",
    "        if res is None:\n",
    "            return ''\n",
    "        else:\n",
    "            return res.group('attribute')\n",
    "    CDS['attribute'] = CDS.attributes.apply(extract_description)\n",
    "\n",
    "    CDS.drop('attributes', axis=1, inplace=True)\n",
    "    \n",
    "    if coord == 'all':\n",
    "        CDS_start_points = CDS\n",
    "    elif coord == 'min':\n",
    "        CDS_start_points = (CDS.groupby(['seqid', 'gene_id', 'attribute', 'strand'], as_index=False)['start'].min())\n",
    "    elif coord == 'max':\n",
    "        CDS_start_points = (CDS.groupby(['seqid', 'gene_id', 'attribute', 'strand'], as_index=False)['start'].max())\n",
    "    elif coord == 'median':\n",
    "        CDS_start_points = (CDS.groupby(['seqid', 'gene_id', 'attribute', 'strand'], as_index=False)['start'].median())\n",
    "        CDS_start_points = CDS_start_points.astype({'start':int})\n",
    "    else:\n",
    "        print('Non valid argument given to extraxt gene coordinates for start position')\n",
    "      \n",
    "    return CDS_start_points"
   ]
  },
  {
   "cell_type": "code",
   "execution_count": 88,
   "metadata": {},
   "outputs": [
    {
     "data": {
      "application/vnd.jupyter.widget-view+json": {
       "model_id": "865718ce99a6473f83e41b942cfdfcb1",
       "version_major": 2,
       "version_minor": 0
      },
      "text/plain": [
       "VBox(children=(Text(value='', description='Filepath:'), Text(value='CDS', description='Feature:'), Text(value=…"
      ]
     },
     "metadata": {},
     "output_type": "display_data"
    }
   ],
   "source": [
    "## Function parameters \n",
    "#gff = widgets.Text(value = '/Users/sam079/Documents/2018_Transcription_factors/Data/GCF_000233375.1_ICSASG_v2_genomic.gff', description='GFF:',disabled=False)\n",
    "\n",
    "gff = widgets.Text(description='Filepath:',disabled=False)\n",
    "\n",
    "feature = widgets.Text(value = 'CDS', description='Feature:', disabled=False)\n",
    "\n",
    "search_gff = widgets.Text(value = 'GeneID', description='Gene ID tag in GFF', disabled=False, style=style)\n",
    "\n",
    "attribute = widgets.Text(value = 'product', description='Other tags in GFF', disabled=False, style=style)\n",
    "\n",
    "coord = widgets.RadioButtons(options=['all', 'min', 'max', 'median'],value='min', description='Start coordinates',disabled=False, style=style, button_style = 'info')\n",
    "\n",
    "ui2 = widgets.VBox([gff, feature, search_gff, attribute, coord])\n",
    "\n",
    "display(ui2)"
   ]
  },
  {
   "cell_type": "code",
   "execution_count": 90,
   "metadata": {},
   "outputs": [
    {
     "data": {
      "application/vnd.jupyter.widget-view+json": {
       "model_id": "48ea578984434c3c8488af003920bc65",
       "version_major": 2,
       "version_minor": 0
      },
      "text/plain": [
       "Button(button_style='info', description='Get Features and Coordinates', layout=Layout(height='40px', width='30…"
      ]
     },
     "metadata": {},
     "output_type": "display_data"
    },
    {
     "data": {
      "application/vnd.jupyter.widget-view+json": {
       "model_id": "c5d5fad952ac41c985626eb55e6932e6",
       "version_major": 2,
       "version_minor": 0
      },
      "text/plain": [
       "Output()"
      ]
     },
     "metadata": {},
     "output_type": "display_data"
    }
   ],
   "source": [
    "button2 = widgets.Button(description=\"Get Features and Coordinates\",layout=Layout(width='30%', height='40px'), button_style = 'info')\n",
    "button2.style\n",
    "out2=widgets.Output()\n",
    "\n",
    "def on_button_clicked(button2):\n",
    "    \n",
    "    if gff.value == '':\n",
    "        with out2:\n",
    "            clear_output(wait = True)\n",
    "            print(\"Filepath to GFF file not provided\")\n",
    "            pass\n",
    "    \n",
    "    else: \n",
    "        with out2: \n",
    "            clear_output(wait = True)\n",
    "            CDS_start_points = get_features(gff.value, feature.value, search_gff.value, attribute.value, coord.value)\n",
    "            print(\"Total number of selected features:\", len(CDS_start_points),'\\n',CDS_start_points.head(10))\n",
    "\n",
    "button2.on_click(on_button_clicked)\n",
    "\n",
    "display(button2, out2)"
   ]
  },
  {
   "cell_type": "code",
   "execution_count": 94,
   "metadata": {},
   "outputs": [],
   "source": [
    "if gff.value == '':\n",
    "    pass\n",
    "else:\n",
    "    CDS_start_points1 = get_features(gff.value, feature.value, search_gff.value, attribute.value, coord.value)"
   ]
  },
  {
   "cell_type": "markdown",
   "metadata": {},
   "source": [
    "### Examine the features extracted from the GFF file\n",
    "\n",
    "Get information from any gene in the list of differentially expressed genes by entering its Gene ID. "
   ]
  },
  {
   "cell_type": "code",
   "execution_count": 52,
   "metadata": {},
   "outputs": [],
   "source": [
    "def find_genes(gene_name):\n",
    "    gene_name = str(gene_name)\n",
    "    query = CDS_start_points1[CDS_start_points1['ENTREZID'] == gene_name]\n",
    "    return query"
   ]
  },
  {
   "cell_type": "code",
   "execution_count": 53,
   "metadata": {},
   "outputs": [
    {
     "data": {
      "application/vnd.jupyter.widget-view+json": {
       "model_id": "6cb911226dff418d97562a6c31255dc1",
       "version_major": 2,
       "version_minor": 0
      },
      "text/plain": [
       "VBox(children=(Text(value='', description='Search for a Gene ID:', style=DescriptionStyle(description_width='i…"
      ]
     },
     "metadata": {},
     "output_type": "display_data"
    }
   ],
   "source": [
    "## Function parameters \n",
    "gene_name = widgets.Text(description='Search for a Gene ID:', disabled=False,style=style)\n",
    "\n",
    "ui_CDS = widgets.VBox([gene_name])\n",
    "\n",
    "display(ui_CDS)"
   ]
  },
  {
   "cell_type": "code",
   "execution_count": 54,
   "metadata": {},
   "outputs": [
    {
     "data": {
      "application/vnd.jupyter.widget-view+json": {
       "model_id": "7860a412c8284d678760df65cb5b562c",
       "version_major": 2,
       "version_minor": 0
      },
      "text/plain": [
       "Button(button_style='info', description='Search Genes', layout=Layout(height='40px', width='30%'), style=Butto…"
      ]
     },
     "metadata": {},
     "output_type": "display_data"
    },
    {
     "data": {
      "application/vnd.jupyter.widget-view+json": {
       "model_id": "2f49dcdffc7e4cc0b6e0fb124b700b53",
       "version_major": 2,
       "version_minor": 0
      },
      "text/plain": [
       "Output()"
      ]
     },
     "metadata": {},
     "output_type": "display_data"
    }
   ],
   "source": [
    "button_CDS = widgets.Button(description=\"Search Genes\",layout=Layout(width='30%', height='40px'), button_style = 'info')\n",
    "out_CDS=widgets.Output()\n",
    "\n",
    "def on_button_clicked(button_CDS):\n",
    "    \n",
    "    if gene_name.value == '':\n",
    "        with out_CDS:\n",
    "            clear_output(wait = True)\n",
    "            print(\"Gene ID not provided\")\n",
    "            pass\n",
    "    \n",
    "    else: \n",
    "        with out_CDS: \n",
    "            clear_output(wait = True)\n",
    "            query = find_genes(gene_name.value)\n",
    "            print(query)\n",
    "\n",
    "button_CDS.on_click(on_button_clicked)\n",
    "\n",
    "display(button_CDS, out_CDS)"
   ]
  },
  {
   "cell_type": "markdown",
   "metadata": {},
   "source": [
    "## 3. Extract background and target sequences from genome"
   ]
  },
  {
   "cell_type": "markdown",
   "metadata": {},
   "source": [
    "### Background sequences"
   ]
  },
  {
   "cell_type": "code",
   "execution_count": 95,
   "metadata": {},
   "outputs": [],
   "source": [
    "from pyfaidx import Fasta\n",
    "\n",
    "def create_background_fasta(CDS_start_points1, genome, background_outfile, upstream_nucl):\n",
    "    genome = Fasta(genome)\n",
    "    CDS_random = CDS_start_points1.sample(500)\n",
    "    outfile = open(background_outfile, \"w\")   \n",
    "    back_list = []\n",
    "    back_dict= {}\n",
    "    \n",
    "    for index, row in CDS_random.iterrows():\n",
    "        genes = row['gene_id']\n",
    "        if row['start'] > upstream_nucl:\n",
    "            sequences = genome[row['seqid']][row['start'] - upstream_nucl:row['start'] + 3]\n",
    "        else:\n",
    "            sequences = genome[row['seqid']][row['start'] - row['start']:row['start']]\n",
    "        back_dict[genes] = sequences\n",
    "        back_list.append(back_dict)\n",
    "        back_dict = {}\n",
    "    \n",
    "    for d in back_list:\n",
    "        for key, value in d.items():\n",
    "            outfile.write(\">\" + key + \" \" + value.fancy_name + \"\\n\" + value.seq + \"\\n\")\n",
    "    \n",
    "    outfile.close() "
   ]
  },
  {
   "cell_type": "code",
   "execution_count": 56,
   "metadata": {},
   "outputs": [
    {
     "data": {
      "application/vnd.jupyter.widget-view+json": {
       "model_id": "6571ed9064144e7d8f724084db4010a1",
       "version_major": 2,
       "version_minor": 0
      },
      "text/plain": [
       "VBox(children=(Text(value='', description='Genome:'), Text(value='background_sequences.txt', description='Outp…"
      ]
     },
     "metadata": {},
     "output_type": "display_data"
    }
   ],
   "source": [
    "## Function parameters \n",
    "#genome = widgets.Text(value = '/Volumes/OSM_CBR_AF_POMV_work/POMV_RNA_seq/Genomes/Salmo_salar/GCF_000233375.1_ICSASG_v2_genomic.fna', description='Genome:',disabled=False)\n",
    "\n",
    "genome = widgets.Text(description='Genome:',disabled=False)\n",
    "\n",
    "background_outfile = widgets.Text(value = 'background_sequences.txt', description = 'Output file', disabled=False)\n",
    "\n",
    "upstream_nucl1 = widgets.IntSlider(value=5000, min=100, max=10000, step=100, description='Sequence length', disabled=False, continuous_update=False, orientation='horizontal', readout=True, readout_format='d', style=style)\n",
    "\n",
    "upstream_nucl1.style.handle_color = 'lightblue'\n",
    "\n",
    "ui3 = widgets.VBox([genome, background_outfile, upstream_nucl1])\n",
    "\n",
    "display(ui3)"
   ]
  },
  {
   "cell_type": "code",
   "execution_count": 93,
   "metadata": {},
   "outputs": [
    {
     "data": {
      "application/vnd.jupyter.widget-view+json": {
       "model_id": "72f4accc1cfa4e7f811892335b5e6b70",
       "version_major": 2,
       "version_minor": 0
      },
      "text/plain": [
       "Button(button_style='info', description='Create Background Fasta', layout=Layout(height='40px', width='30%'), …"
      ]
     },
     "metadata": {},
     "output_type": "display_data"
    },
    {
     "data": {
      "application/vnd.jupyter.widget-view+json": {
       "model_id": "16a3401ebd584c039580fad7612cff6e",
       "version_major": 2,
       "version_minor": 0
      },
      "text/plain": [
       "Output()"
      ]
     },
     "metadata": {},
     "output_type": "display_data"
    }
   ],
   "source": [
    "button3=widgets.Button(description=\"Create Background Fasta\",layout=Layout(width='30%', height='40px'), button_style = 'info')\n",
    "out3=widgets.Output()\n",
    "\n",
    "def on_button_clicked(button3):\n",
    "    \n",
    "    if genome.value == '':\n",
    "        with out3:\n",
    "            clear_output(wait = True)\n",
    "            print(\"Filepath to Genome file not provided\")\n",
    "            pass\n",
    "    \n",
    "    else: \n",
    "        with out3: \n",
    "            clear_output(wait = True)\n",
    "            CDS_start_points1 = get_features(gff.value, feature.value, search_gff.value, attribute.value, coord.value)\n",
    "            create_background_fasta(CDS_start_points1, genome.value, background_outfile.value, upstream_nucl1.value)\n",
    "            print(\"Background sequences located in:\",background_outfile.value,\"and have a length of:\",upstream_nucl1.value,\"nucleotides\")\n",
    "\n",
    "button3.on_click(on_button_clicked)\n",
    "\n",
    "display(button3, out3)"
   ]
  },
  {
   "cell_type": "markdown",
   "metadata": {},
   "source": [
    "### Target sequences"
   ]
  },
  {
   "cell_type": "code",
   "execution_count": 96,
   "metadata": {},
   "outputs": [],
   "source": [
    "def create_target_fasta(DEgenes1, CDS_start_points1, genome, target_outfile, upstream_nucl):\n",
    "    genome = Fasta(genome)\n",
    "    outfile = open(target_outfile, \"w\")\n",
    "    newdf = pd.merge(DEgenes1, CDS_start_points1)\n",
    "    seq_list = []\n",
    "    seq_dict= {}\n",
    "\n",
    "    for index, row in newdf.iterrows():\n",
    "        genes = row['gene_id']\n",
    "        if row['start'] > upstream_nucl:\n",
    "            sequences = genome[row['seqid']][row['start'] - upstream_nucl:row['start'] + 3]\n",
    "        else:\n",
    "            sequences = genome[row['seqid']][row['start'] - row['start']:row['start']]\n",
    "        seq_dict[genes] = sequences\n",
    "        seq_list.append(seq_dict)\n",
    "        seq_dict = {}\n",
    "    \n",
    "    for d in seq_list:\n",
    "        for key, value in d.items():\n",
    "            outfile.write(\">\" + key + \" \" + value.fancy_name + \"\\n\" + value.seq + \"\\n\")\n",
    "    \n",
    "    outfile.close() \n",
    "    \n",
    "    return seq_list"
   ]
  },
  {
   "cell_type": "code",
   "execution_count": 97,
   "metadata": {},
   "outputs": [
    {
     "data": {
      "application/vnd.jupyter.widget-view+json": {
       "model_id": "835899614e994ee0a3d06ae2d7eef9a3",
       "version_major": 2,
       "version_minor": 0
      },
      "text/plain": [
       "VBox(children=(Text(value='target_sequences.txt', description='Output file'), IntSlider(value=5000, continuous…"
      ]
     },
     "metadata": {},
     "output_type": "display_data"
    }
   ],
   "source": [
    "## Function parameters \n",
    "target_outfile = widgets.Text(value = 'target_sequences.txt', description = 'Output file', disabled=False)\n",
    "\n",
    "upstream_nucl2 = widgets.IntSlider(value=5000, min=100, max=10000, step=100, description='Sequence length', disabled=False, continuous_update=False, orientation='horizontal', readout=True, readout_format='d', style=style)\n",
    "\n",
    "upstream_nucl2.style.handle_color = 'lightblue'\n",
    "\n",
    "ui4 = widgets.VBox([target_outfile, upstream_nucl2])\n",
    "\n",
    "display(ui4)"
   ]
  },
  {
   "cell_type": "code",
   "execution_count": 98,
   "metadata": {},
   "outputs": [
    {
     "data": {
      "application/vnd.jupyter.widget-view+json": {
       "model_id": "a38f3b22e2dd4596b518e05aa6c227c0",
       "version_major": 2,
       "version_minor": 0
      },
      "text/plain": [
       "Button(button_style='info', description='Create Target Fasta', layout=Layout(height='40px', width='30%'), styl…"
      ]
     },
     "metadata": {},
     "output_type": "display_data"
    },
    {
     "data": {
      "application/vnd.jupyter.widget-view+json": {
       "model_id": "b6ac4a1b3ddb48d69ac8b399319d4f2e",
       "version_major": 2,
       "version_minor": 0
      },
      "text/plain": [
       "Output()"
      ]
     },
     "metadata": {},
     "output_type": "display_data"
    }
   ],
   "source": [
    "button4=widgets.Button(description=\"Create Target Fasta\",layout=Layout(width='30%', height='40px'), button_style = 'info')\n",
    "out4=widgets.Output()\n",
    "\n",
    "def on_button_clicked(button4):\n",
    "\n",
    "    if genome.value == '':\n",
    "        with out4:\n",
    "            clear_output(wait = True)\n",
    "            print(\"Filepath to Genome file not provided\")\n",
    "            pass\n",
    "    \n",
    "    else: \n",
    "        with out4: \n",
    "            clear_output(wait = True)\n",
    "            DEgenes1 = get_degenes(filepath.value, gene_id.value, threshold.value, threshold_col_id.value)\n",
    "            CDS_start_points1 = get_features(gff.value, feature.value, search_gff.value, attribute.value, coord.value)\n",
    "            create_target_fasta(DEgenes1, CDS_start_points1, genome.value, target_outfile.value, upstream_nucl2.value)    \n",
    "            print(\"Target sequences located in:\",target_outfile.value,\"and have a length of:\",upstream_nucl2.value,\"nucleotides\")\n",
    "\n",
    "button4.on_click(on_button_clicked)\n",
    "\n",
    "display(button4, out4)"
   ]
  },
  {
   "cell_type": "code",
   "execution_count": 61,
   "metadata": {},
   "outputs": [
    {
     "data": {
      "text/html": [
       "<script>\n",
       "code_show=true; \n",
       "function code_toggle() {\n",
       " if (code_show){\n",
       " $('div.input').hide();\n",
       " } else {\n",
       " $('div.input').show();\n",
       " }\n",
       " code_show = !code_show\n",
       "} \n",
       "$( document ).ready(code_toggle);\n",
       "</script>\n",
       "<form action=\"javascript:code_toggle()\"><input type=\"submit\" value=\"Click here to toggle on/off the raw code.\"></form>"
      ],
      "text/plain": [
       "<IPython.core.display.HTML object>"
      ]
     },
     "execution_count": 61,
     "metadata": {},
     "output_type": "execute_result"
    }
   ],
   "source": [
    "from IPython.display import HTML\n",
    "\n",
    "HTML('''<script>\n",
    "code_show=true; \n",
    "function code_toggle() {\n",
    " if (code_show){\n",
    " $('div.input').hide();\n",
    " } else {\n",
    " $('div.input').show();\n",
    " }\n",
    " code_show = !code_show\n",
    "} \n",
    "$( document ).ready(code_toggle);\n",
    "</script>\n",
    "<form action=\"javascript:code_toggle()\"><input type=\"submit\" value=\"Click here to toggle on/off the raw code.\"></form>''')"
   ]
  },
  {
   "cell_type": "code",
   "execution_count": null,
   "metadata": {},
   "outputs": [],
   "source": []
  }
 ],
 "metadata": {
  "kernelspec": {
   "display_name": "Python 3",
   "language": "python",
   "name": "python3"
  },
  "language_info": {
   "codemirror_mode": {
    "name": "ipython",
    "version": 3
   },
   "file_extension": ".py",
   "mimetype": "text/x-python",
   "name": "python",
   "nbconvert_exporter": "python",
   "pygments_lexer": "ipython3",
   "version": "3.6.5"
  }
 },
 "nbformat": 4,
 "nbformat_minor": 2
}
