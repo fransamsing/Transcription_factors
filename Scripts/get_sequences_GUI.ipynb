{
 "cells": [
  {
   "cell_type": "markdown",
   "metadata": {},
   "source": [
    "# Finding Transcription Factor Binding Sites"
   ]
  },
  {
   "cell_type": "markdown",
   "metadata": {},
   "source": [
    "## Overall purpose of the function\n",
    "\n",
    "Extract the upstream sequences from differentially expressed genes to find transcription factor binding sites (TFBS) using oPPOSSUM.\n",
    "\n",
    "**The basic inputs of the function include:**\n",
    "1. csv file with differentially expressed genes (e.g. output from Limma-Voom, EdgeR or DESeq)\n",
    "2. reference genome\n",
    "3. gff annotation file\n",
    "\n",
    "**The outputs from this function are:**\n",
    "1. fasta file with upstream **background sequences** from random genes in the genome\n",
    "2. fasta file with upstream **target sequences** from differentially expressed genes \n",
    "\n",
    "The background and target sequences can be used to query servers such as oPOSSUM to find TFBS.\n",
    "\n",
    "Link to oPOSSUM website: http://opossum.cisreg.ca/cgi-bin/oPOSSUM3/opossum_seq_ssa"
   ]
  },
  {
   "cell_type": "markdown",
   "metadata": {},
   "source": [
    "## Transcription factor binding sites (TFBS)\n",
    "\n",
    "Transcription factor binding sites (TFBS) are often located in the 5’-upstream region of target genes (up to 10000 nucleotides upstream) to modulate the rate of gene transcription. Transcription factor binding sites can be thus defined as short DNA sequences (typically 4 to 30 base pairs long) that are specifically bound by one or more DNA-binding proteins or protein complexes."
   ]
  },
  {
   "cell_type": "code",
   "execution_count": 69,
   "metadata": {},
   "outputs": [
    {
     "data": {
      "text/html": [
       "<img src=\"https://ka-perseus-images.s3.amazonaws.com/6567f50d30ad3ac65aff1e815caf202b3abd7111.png\"/>"
      ],
      "text/plain": [
       "<IPython.core.display.Image object>"
      ]
     },
     "execution_count": 69,
     "metadata": {},
     "output_type": "execute_result"
    }
   ],
   "source": [
    "from IPython.display import display, Image\n",
    "Image(url = 'https://ka-perseus-images.s3.amazonaws.com/6567f50d30ad3ac65aff1e815caf202b3abd7111.png')"
   ]
  },
  {
   "cell_type": "markdown",
   "metadata": {},
   "source": [
    "# Steps"
   ]
  },
  {
   "cell_type": "markdown",
   "metadata": {},
   "source": [
    "## 1. Log and filter differentially expressed genes using a threshold value\n",
    "\n",
    "- Enter the filepath to file with differentially expressed genes produced in EdgeR, Limma-Voom or DEseq2\n",
    "- Enter the column header of the column that contains gene names (defaults to ENTREZID)\n",
    "- Enter column header of column that contains the threshold for filtering genes (defaults to logFC) \n",
    "- Move the treshold to your desire (defaults to logFC 2)"
   ]
  },
  {
   "cell_type": "code",
   "execution_count": 70,
   "metadata": {
    "collapsed": true
   },
   "outputs": [],
   "source": [
    "# Import the widgets\n",
    "from ipywidgets import widgets, interact, interactive, Button, Layout\n",
    "\n",
    "# Import the display function for explicitly displaying widgets in the notebook\n",
    "from IPython.display import display, clear_output"
   ]
  },
  {
   "cell_type": "code",
   "execution_count": 71,
   "metadata": {
    "collapsed": true
   },
   "outputs": [],
   "source": [
    "#Import packages\n",
    "import pandas as pd\n",
    "import numpy as np\n",
    "import math\n",
    "\n",
    "def get_degenes(filepath, gene_id, threshold, threshold_col_id):\n",
    "    genes = pd.read_csv(filepath)\n",
    "    genes = genes.dropna()   \n",
    "    if genes[gene_id].dtypes == float:\n",
    "        genes = genes.astype({gene_id:int})\n",
    "        genes = genes.astype({gene_id:str})\n",
    "        pass\n",
    "    elif genes[gene_id].dtypes == int:\n",
    "        genes = genes.astype({gene_id:str})\n",
    "    else:\n",
    "        print(\"gene names are strings, great!\")\n",
    "    \n",
    "    DEgenes = genes.loc[(genes[threshold_col_id] >= threshold) | (genes[threshold_col_id] <= -threshold)]\n",
    "    DEgenes = DEgenes[[gene_id]]\n",
    "    DEgenes.rename(columns={gene_id:'gene_id'}, inplace=True)\n",
    "    \n",
    "    return DEgenes"
   ]
  },
  {
   "cell_type": "code",
   "execution_count": 72,
   "metadata": {},
   "outputs": [
    {
     "data": {
      "application/vnd.jupyter.widget-view+json": {
       "model_id": "1cac6e1f948a4c599356a432e59e3bae",
       "version_major": 2,
       "version_minor": 0
      },
      "text/html": [
       "<p>Failed to display Jupyter Widget of type <code>VBox</code>.</p>\n",
       "<p>\n",
       "  If you're reading this message in the Jupyter Notebook or JupyterLab Notebook, it may mean\n",
       "  that the widgets JavaScript is still loading. If this message persists, it\n",
       "  likely means that the widgets JavaScript library is either not installed or\n",
       "  not enabled. See the <a href=\"https://ipywidgets.readthedocs.io/en/stable/user_install.html\">Jupyter\n",
       "  Widgets Documentation</a> for setup instructions.\n",
       "</p>\n",
       "<p>\n",
       "  If you're reading this message in another frontend (for example, a static\n",
       "  rendering on GitHub or <a href=\"https://nbviewer.jupyter.org/\">NBViewer</a>),\n",
       "  it may mean that your frontend doesn't currently support widgets.\n",
       "</p>\n"
      ],
      "text/plain": [
       "VBox(children=(Text(value='', description='Filepath:'), Text(value='ENTREZID', description='Gene ID:'), Text(value='logFC', description='Threshold column ID:', style=DescriptionStyle(description_width='initial')), FloatSlider(value=2.0, continuous_update=False, description='Threshold', max=10.0, min=0.5, readout_format='.1f', step=0.5, style=SliderStyle(description_width='initial', handle_color='lightblue'))))"
      ]
     },
     "metadata": {},
     "output_type": "display_data"
    }
   ],
   "source": [
    "## Function parameters and styling of widgets\n",
    "\n",
    "style = {'description_width': 'initial'}\n",
    "\n",
    "filepath = widgets.Text(value = '', \n",
    "                        description='Filepath:',disabled=False)\n",
    "\n",
    "gene_id = widgets.Text(value = 'ENTREZID', \n",
    "                       description='Gene ID:', disabled=False)\n",
    "\n",
    "threshold_col_id = widgets.Text(value = 'logFC', \n",
    "                                description='Threshold column ID:', \n",
    "                                disabled=False, style=style)\n",
    "\n",
    "threshold = widgets.FloatSlider(value=2.0, min=0.5, max=10.0, step=0.5, \n",
    "                                description='Threshold', \n",
    "                                disabled=False, continuous_update=False, \n",
    "                                orientation='horizontal', readout=True, \n",
    "                                readout_format='.1f', style=style)\n",
    "\n",
    "threshold.style.handle_color = 'lightblue'\n",
    "\n",
    "ui1 = widgets.VBox([filepath, gene_id, threshold_col_id, threshold])\n",
    "\n",
    "display(ui1)"
   ]
  },
  {
   "cell_type": "code",
   "execution_count": 73,
   "metadata": {},
   "outputs": [
    {
     "data": {
      "application/vnd.jupyter.widget-view+json": {
       "model_id": "4a826138ce4a408a80fb2b6f6d753e6c",
       "version_major": 2,
       "version_minor": 0
      },
      "text/html": [
       "<p>Failed to display Jupyter Widget of type <code>Button</code>.</p>\n",
       "<p>\n",
       "  If you're reading this message in the Jupyter Notebook or JupyterLab Notebook, it may mean\n",
       "  that the widgets JavaScript is still loading. If this message persists, it\n",
       "  likely means that the widgets JavaScript library is either not installed or\n",
       "  not enabled. See the <a href=\"https://ipywidgets.readthedocs.io/en/stable/user_install.html\">Jupyter\n",
       "  Widgets Documentation</a> for setup instructions.\n",
       "</p>\n",
       "<p>\n",
       "  If you're reading this message in another frontend (for example, a static\n",
       "  rendering on GitHub or <a href=\"https://nbviewer.jupyter.org/\">NBViewer</a>),\n",
       "  it may mean that your frontend doesn't currently support widgets.\n",
       "</p>\n"
      ],
      "text/plain": [
       "Button(button_style='info', description='Filter Genes', icon='check', layout=Layout(height='40px', width='30%'), style=ButtonStyle(font_weight='bold'), tooltip='Description')"
      ]
     },
     "metadata": {},
     "output_type": "display_data"
    },
    {
     "data": {
      "application/vnd.jupyter.widget-view+json": {
       "model_id": "26deb3750d7f4582a97657f2734da4db",
       "version_major": 2,
       "version_minor": 0
      },
      "text/html": [
       "<p>Failed to display Jupyter Widget of type <code>Output</code>.</p>\n",
       "<p>\n",
       "  If you're reading this message in the Jupyter Notebook or JupyterLab Notebook, it may mean\n",
       "  that the widgets JavaScript is still loading. If this message persists, it\n",
       "  likely means that the widgets JavaScript library is either not installed or\n",
       "  not enabled. See the <a href=\"https://ipywidgets.readthedocs.io/en/stable/user_install.html\">Jupyter\n",
       "  Widgets Documentation</a> for setup instructions.\n",
       "</p>\n",
       "<p>\n",
       "  If you're reading this message in another frontend (for example, a static\n",
       "  rendering on GitHub or <a href=\"https://nbviewer.jupyter.org/\">NBViewer</a>),\n",
       "  it may mean that your frontend doesn't currently support widgets.\n",
       "</p>\n"
      ],
      "text/plain": [
       "Output()"
      ]
     },
     "metadata": {},
     "output_type": "display_data"
    }
   ],
   "source": [
    "# Styling of button and configuration of button clicked\n",
    "\n",
    "button1 = widgets.Button(description=\"Filter Genes\", \n",
    "                    layout=Layout(width='30%', height='40px'), \n",
    "                    button_style = 'info', \n",
    "                    style = {'font_weight': 'bold', 'font-size' : '30px'}, \n",
    "                    tooltip = 'Description', icon = 'check')\n",
    "\n",
    "out1=widgets.Output()\n",
    "\n",
    "def on_button_clicked(button1): \n",
    "    \n",
    "    if filepath.value == '':\n",
    "        with out1:\n",
    "            clear_output(wait = True)\n",
    "            print(\"Filepath to differentially expressed genes not provided\")\n",
    "            pass    \n",
    "    else: \n",
    "        with out1: \n",
    "            clear_output(wait = True)\n",
    "            DEgenes = get_degenes(filepath.value, gene_id.value, threshold.value, threshold_col_id.value)\n",
    "            print(\"Total number of differentially expressed genes:\", len(DEgenes))\n",
    "\n",
    "button1.on_click(on_button_clicked)\n",
    "\n",
    "display(button1, out1)"
   ]
  },
  {
   "cell_type": "markdown",
   "metadata": {},
   "source": [
    "## 2. Extract features and coordinates from the GFF file\n",
    "\n",
    "- Enter the filepath to the GFF file\n",
    "- Click the feature to extract from the GFF (defaults to CDS)\n",
    "- Enter the tag or label for Gene IDs in the GFF. The Gene IDs have to match the IDs in the differentially expressed file (defaults to 'GeneID')\n",
    "- Enter the label or tag of another attribute to extract from the GFF (defaults to gene product)\n",
    "- Select the start coordinate of the feature (defaults to min, which is the smallest coordinate position in the GFF)"
   ]
  },
  {
   "cell_type": "code",
   "execution_count": 74,
   "metadata": {
    "collapsed": true
   },
   "outputs": [],
   "source": [
    "import re"
   ]
  },
  {
   "cell_type": "code",
   "execution_count": 75,
   "metadata": {
    "collapsed": true
   },
   "outputs": [],
   "source": [
    "def get_features(gff, feature, search_gff, attribute, coord):\n",
    "    col_names = ['seqid', 'source', 'type', 'start', 'end', 'score', 'strand', 'phase', 'attributes']\n",
    "    mygff = pd.read_csv(gff, sep='\\t', comment='#', low_memory=False, header=None, names=col_names)\n",
    "    CDS = mygff[mygff.type == feature]\n",
    "    CDS = CDS.copy()\n",
    "\n",
    "    RE_GENE_NAME = re.compile(r'({}\\W)(?P<gene_id>.+?)[,;]'.format(search_gff))\n",
    "    def extract_gene_name(attributes_str):\n",
    "        res = RE_GENE_NAME.search(attributes_str)\n",
    "        if res is None:\n",
    "            return ''\n",
    "        else:\n",
    "            return res.group('gene_id')\n",
    "    CDS['gene_id'] = CDS.attributes.apply(extract_gene_name)\n",
    "    \n",
    "    RE_DESC = re.compile(r'({}\\W)(?P<attribute>.+?)[,;]'.format(attribute))\n",
    "    def extract_description(attributes_str):\n",
    "        res = RE_DESC.search(attributes_str)\n",
    "        if res is None:\n",
    "            return ''\n",
    "        else:\n",
    "            return res.group('attribute')\n",
    "    CDS['attribute'] = CDS.attributes.apply(extract_description)\n",
    "\n",
    "    CDS.drop('attributes', axis=1, inplace=True)\n",
    "    \n",
    "    if coord == 'all':\n",
    "        CDS_start_points = CDS\n",
    "    elif coord == 'min':\n",
    "        CDS_start_points = (CDS.groupby(['seqid', 'gene_id', 'attribute', 'strand'], as_index=False)['start'].min())\n",
    "    elif coord == 'max':\n",
    "        CDS_start_points = (CDS.groupby(['seqid', 'gene_id', 'attribute', 'strand'], as_index=False)['start'].max())\n",
    "    elif coord == 'median':\n",
    "        CDS_start_points = (CDS.groupby(['seqid', 'gene_id', 'attribute', 'strand'], as_index=False)['start'].median())\n",
    "        CDS_start_points = CDS_start_points.astype({'start':int})\n",
    "    else:\n",
    "        print('Non valid argument given to extraxt gene coordinates for start position')\n",
    "      \n",
    "    return CDS_start_points"
   ]
  },
  {
   "cell_type": "code",
   "execution_count": 76,
   "metadata": {},
   "outputs": [
    {
     "data": {
      "application/vnd.jupyter.widget-view+json": {
       "model_id": "d475b471d08344ceaf5f543df7b8993c",
       "version_major": 2,
       "version_minor": 0
      },
      "text/html": [
       "<p>Failed to display Jupyter Widget of type <code>VBox</code>.</p>\n",
       "<p>\n",
       "  If you're reading this message in the Jupyter Notebook or JupyterLab Notebook, it may mean\n",
       "  that the widgets JavaScript is still loading. If this message persists, it\n",
       "  likely means that the widgets JavaScript library is either not installed or\n",
       "  not enabled. See the <a href=\"https://ipywidgets.readthedocs.io/en/stable/user_install.html\">Jupyter\n",
       "  Widgets Documentation</a> for setup instructions.\n",
       "</p>\n",
       "<p>\n",
       "  If you're reading this message in another frontend (for example, a static\n",
       "  rendering on GitHub or <a href=\"https://nbviewer.jupyter.org/\">NBViewer</a>),\n",
       "  it may mean that your frontend doesn't currently support widgets.\n",
       "</p>\n"
      ],
      "text/plain": [
       "VBox(children=(Text(value='', description='Filepath:', style=DescriptionStyle(description_width='initial')), RadioButtons(description='Feature:', options=('CDS', 'exon'), style=DescriptionStyle(description_width='initial'), value='CDS'), Text(value='GeneID', description='GeneID label', style=DescriptionStyle(description_width='initial')), Text(value='product', description='Other labels', style=DescriptionStyle(description_width='initial')), RadioButtons(description='Start coordinates', index=1, options=('all', 'min', 'max', 'median'), style=DescriptionStyle(description_width='initial'), value='min')))"
      ]
     },
     "metadata": {},
     "output_type": "display_data"
    }
   ],
   "source": [
    "## Function parameters and styling of widgets\n",
    "\n",
    "gff = widgets.Text(description='Filepath:',\n",
    "                    disabled=False, \n",
    "                    style=style)\n",
    "\n",
    "feature = widgets.RadioButtons(options=['CDS', 'exon'], \n",
    "                                value = 'CDS', \n",
    "                                description='Feature:', \n",
    "                                disabled=False, \n",
    "                                style=style)\n",
    "\n",
    "\n",
    "search_gff = widgets.Text(value = 'GeneID', \n",
    "                          description='GeneID label', \n",
    "                          disabled=False, \n",
    "                          style=style)\n",
    "\n",
    "attribute = widgets.Text(value = 'product', \n",
    "                         description='Other labels', \n",
    "                         disabled=False, \n",
    "                         style=style)\n",
    "\n",
    "coord = widgets.RadioButtons(options=['all', 'min', 'max', 'median'],\n",
    "                             value='min', description='Start coordinates',\n",
    "                             disabled=False, \n",
    "                             style=style, \n",
    "                             button_style = 'info')\n",
    "\n",
    "ui2 = widgets.VBox([gff, feature, search_gff, attribute, coord])\n",
    "\n",
    "display(ui2)"
   ]
  },
  {
   "cell_type": "code",
   "execution_count": 77,
   "metadata": {},
   "outputs": [
    {
     "data": {
      "application/vnd.jupyter.widget-view+json": {
       "model_id": "b9919ae0433a4ca68def36b13a264f6b",
       "version_major": 2,
       "version_minor": 0
      },
      "text/html": [
       "<p>Failed to display Jupyter Widget of type <code>Button</code>.</p>\n",
       "<p>\n",
       "  If you're reading this message in the Jupyter Notebook or JupyterLab Notebook, it may mean\n",
       "  that the widgets JavaScript is still loading. If this message persists, it\n",
       "  likely means that the widgets JavaScript library is either not installed or\n",
       "  not enabled. See the <a href=\"https://ipywidgets.readthedocs.io/en/stable/user_install.html\">Jupyter\n",
       "  Widgets Documentation</a> for setup instructions.\n",
       "</p>\n",
       "<p>\n",
       "  If you're reading this message in another frontend (for example, a static\n",
       "  rendering on GitHub or <a href=\"https://nbviewer.jupyter.org/\">NBViewer</a>),\n",
       "  it may mean that your frontend doesn't currently support widgets.\n",
       "</p>\n"
      ],
      "text/plain": [
       "Button(button_style='info', description='Get Features and Coordinates', icon='check', layout=Layout(height='40px', width='30%'), style=ButtonStyle(font_weight='bold'), tooltip='Description')"
      ]
     },
     "metadata": {},
     "output_type": "display_data"
    },
    {
     "data": {
      "application/vnd.jupyter.widget-view+json": {
       "model_id": "21b10e8422d14c308d3c8fdc7a169b63",
       "version_major": 2,
       "version_minor": 0
      },
      "text/html": [
       "<p>Failed to display Jupyter Widget of type <code>Output</code>.</p>\n",
       "<p>\n",
       "  If you're reading this message in the Jupyter Notebook or JupyterLab Notebook, it may mean\n",
       "  that the widgets JavaScript is still loading. If this message persists, it\n",
       "  likely means that the widgets JavaScript library is either not installed or\n",
       "  not enabled. See the <a href=\"https://ipywidgets.readthedocs.io/en/stable/user_install.html\">Jupyter\n",
       "  Widgets Documentation</a> for setup instructions.\n",
       "</p>\n",
       "<p>\n",
       "  If you're reading this message in another frontend (for example, a static\n",
       "  rendering on GitHub or <a href=\"https://nbviewer.jupyter.org/\">NBViewer</a>),\n",
       "  it may mean that your frontend doesn't currently support widgets.\n",
       "</p>\n"
      ],
      "text/plain": [
       "Output()"
      ]
     },
     "metadata": {},
     "output_type": "display_data"
    }
   ],
   "source": [
    "# Styling of button and configuration of button clicked\n",
    "\n",
    "button2 = widgets.Button(description=\"Get Features and Coordinates\",\n",
    "                            layout=Layout(width='30%', height='40px'), \n",
    "                            button_style = 'info', \n",
    "                            style = {'font_weight': 'bold', 'font-size' : '30px'}, \n",
    "                            tooltip = 'Description', \n",
    "                            icon = 'check')\n",
    "\n",
    "out2=widgets.Output()\n",
    "\n",
    "def on_button_clicked(button2):\n",
    "    \n",
    "    if gff.value == '':\n",
    "        with out2:\n",
    "            clear_output(wait = True)\n",
    "            print(\"Filepath to GFF file not provided\")\n",
    "            pass\n",
    "    \n",
    "    else: \n",
    "        with out2: \n",
    "            clear_output(wait = True)\n",
    "            CDS_start_points = get_features(gff.value, feature.value, search_gff.value, attribute.value, coord.value)\n",
    "            print(\"Total number of selected features:\", len(CDS_start_points),'\\n',CDS_start_points.head(10))\n",
    "\n",
    "button2.on_click(on_button_clicked)\n",
    "\n",
    "display(button2, out2)"
   ]
  },
  {
   "cell_type": "markdown",
   "metadata": {},
   "source": [
    "## 3. Extract background and target sequences from genome\n",
    "\n",
    "- Enter filepath to the species Genome\n",
    "- Enter a filepath to store the fasta file with background sequences \n",
    "- Select the number of nucleotides to extract upstream from the start coordinates of background genes and target genes"
   ]
  },
  {
   "cell_type": "markdown",
   "metadata": {},
   "source": [
    "### Background sequences"
   ]
  },
  {
   "cell_type": "code",
   "execution_count": 78,
   "metadata": {
    "collapsed": true
   },
   "outputs": [],
   "source": [
    "from pyfaidx import Fasta\n",
    "\n",
    "def create_background_fasta(CDS_start_points1, genome, background_outfile, upstream_nucl):\n",
    "    genome = Fasta(genome)\n",
    "    CDS_random = CDS_start_points1.sample(500)\n",
    "    outfile = open(background_outfile, \"w\")   \n",
    "    back_list = []\n",
    "    back_dict= {}\n",
    "    \n",
    "    for index, row in CDS_random.iterrows():\n",
    "        genes = row['gene_id']\n",
    "        if row['start'] > upstream_nucl:\n",
    "            sequences = genome[row['seqid']][row['start'] - upstream_nucl:row['start'] + 3]\n",
    "        else:\n",
    "            sequences = genome[row['seqid']][row['start'] - row['start']:row['start']]\n",
    "        back_dict[genes] = sequences\n",
    "        back_list.append(back_dict)\n",
    "        back_dict = {}\n",
    "    \n",
    "    for d in back_list:\n",
    "        for key, value in d.items():\n",
    "            outfile.write(\">\" + key + \" \" + value.fancy_name + \"\\n\" + value.seq + \"\\n\")\n",
    "    \n",
    "    outfile.close() "
   ]
  },
  {
   "cell_type": "code",
   "execution_count": 88,
   "metadata": {},
   "outputs": [
    {
     "data": {
      "application/vnd.jupyter.widget-view+json": {
       "model_id": "686d95b1432e4f08999df4f352cc02f7",
       "version_major": 2,
       "version_minor": 0
      },
      "text/html": [
       "<p>Failed to display Jupyter Widget of type <code>VBox</code>.</p>\n",
       "<p>\n",
       "  If you're reading this message in the Jupyter Notebook or JupyterLab Notebook, it may mean\n",
       "  that the widgets JavaScript is still loading. If this message persists, it\n",
       "  likely means that the widgets JavaScript library is either not installed or\n",
       "  not enabled. See the <a href=\"https://ipywidgets.readthedocs.io/en/stable/user_install.html\">Jupyter\n",
       "  Widgets Documentation</a> for setup instructions.\n",
       "</p>\n",
       "<p>\n",
       "  If you're reading this message in another frontend (for example, a static\n",
       "  rendering on GitHub or <a href=\"https://nbviewer.jupyter.org/\">NBViewer</a>),\n",
       "  it may mean that your frontend doesn't currently support widgets.\n",
       "</p>\n"
      ],
      "text/plain": [
       "VBox(children=(Text(value='', description='Genome:'), Text(value='', description='Output file'), IntSlider(value=5000, continuous_update=False, description='Sequence length', max=10000, min=100, step=100, style=SliderStyle(description_width='initial', handle_color='lightblue'))))"
      ]
     },
     "metadata": {},
     "output_type": "display_data"
    }
   ],
   "source": [
    "## Function parameters and styling of widgets\n",
    "\n",
    "genome = widgets.Text(description='Genome:',\n",
    "                      disabled=False)\n",
    "\n",
    "background_outfile = widgets.Text(description = 'Output file', \n",
    "                                  disabled=False)\n",
    "\n",
    "upstream_nucl1 = widgets.IntSlider(value=5000, min=100, max=10000, step=100, \n",
    "                                   description='Sequence length', \n",
    "                                   disabled=False, \n",
    "                                   continuous_update=False, \n",
    "                                   orientation='horizontal', \n",
    "                                   readout=True, \n",
    "                                   readout_format='d', \n",
    "                                   style=style)\n",
    "\n",
    "upstream_nucl1.style.handle_color = 'lightblue'\n",
    "\n",
    "ui3 = widgets.VBox([genome, background_outfile, upstream_nucl1])\n",
    "\n",
    "display(ui3)"
   ]
  },
  {
   "cell_type": "code",
   "execution_count": 89,
   "metadata": {},
   "outputs": [
    {
     "data": {
      "application/vnd.jupyter.widget-view+json": {
       "model_id": "fc547dafa1364493b6506737a3f89ce5",
       "version_major": 2,
       "version_minor": 0
      },
      "text/html": [
       "<p>Failed to display Jupyter Widget of type <code>Button</code>.</p>\n",
       "<p>\n",
       "  If you're reading this message in the Jupyter Notebook or JupyterLab Notebook, it may mean\n",
       "  that the widgets JavaScript is still loading. If this message persists, it\n",
       "  likely means that the widgets JavaScript library is either not installed or\n",
       "  not enabled. See the <a href=\"https://ipywidgets.readthedocs.io/en/stable/user_install.html\">Jupyter\n",
       "  Widgets Documentation</a> for setup instructions.\n",
       "</p>\n",
       "<p>\n",
       "  If you're reading this message in another frontend (for example, a static\n",
       "  rendering on GitHub or <a href=\"https://nbviewer.jupyter.org/\">NBViewer</a>),\n",
       "  it may mean that your frontend doesn't currently support widgets.\n",
       "</p>\n"
      ],
      "text/plain": [
       "Button(button_style='info', description='Create Background Fasta', icon='check', layout=Layout(height='40px', width='30%'), style=ButtonStyle(font_weight='bold'), tooltip='Description')"
      ]
     },
     "metadata": {},
     "output_type": "display_data"
    },
    {
     "data": {
      "application/vnd.jupyter.widget-view+json": {
       "model_id": "d98df353ca86466398c168047a5f0242",
       "version_major": 2,
       "version_minor": 0
      },
      "text/html": [
       "<p>Failed to display Jupyter Widget of type <code>Output</code>.</p>\n",
       "<p>\n",
       "  If you're reading this message in the Jupyter Notebook or JupyterLab Notebook, it may mean\n",
       "  that the widgets JavaScript is still loading. If this message persists, it\n",
       "  likely means that the widgets JavaScript library is either not installed or\n",
       "  not enabled. See the <a href=\"https://ipywidgets.readthedocs.io/en/stable/user_install.html\">Jupyter\n",
       "  Widgets Documentation</a> for setup instructions.\n",
       "</p>\n",
       "<p>\n",
       "  If you're reading this message in another frontend (for example, a static\n",
       "  rendering on GitHub or <a href=\"https://nbviewer.jupyter.org/\">NBViewer</a>),\n",
       "  it may mean that your frontend doesn't currently support widgets.\n",
       "</p>\n"
      ],
      "text/plain": [
       "Output()"
      ]
     },
     "metadata": {},
     "output_type": "display_data"
    }
   ],
   "source": [
    "# Styling of button and configuration of button clicked\n",
    "\n",
    "button3=widgets.Button(description=\"Create Background Fasta\",\n",
    "                                layout=Layout(width='30%', height='40px'), \n",
    "                                button_style = 'info', \n",
    "                                style = {'font_weight': 'bold', 'font-size' : '30px'}, \n",
    "                                tooltip = 'Description', icon = 'check')\n",
    "\n",
    "\n",
    "out3=widgets.Output()\n",
    "\n",
    "def on_button_clicked(button3):\n",
    "    \n",
    "    if genome.value == '':\n",
    "        with out3:\n",
    "            clear_output(wait = True)\n",
    "            print(\"Filepath to Genome file not provided\")\n",
    "            pass\n",
    "    \n",
    "    else: \n",
    "        with out3: \n",
    "            clear_output(wait = True)\n",
    "            CDS_start_points1 = get_features(gff.value, feature.value, search_gff.value, attribute.value, coord.value)\n",
    "            create_background_fasta(CDS_start_points1, genome.value, background_outfile.value, upstream_nucl1.value)\n",
    "            print(\"Your 500 background sequences are located in:\",background_outfile.value,\"and have a length of:\",upstream_nucl1.value,\"nucleotides\")\n",
    "\n",
    "button3.on_click(on_button_clicked)\n",
    "\n",
    "display(button3, out3)"
   ]
  },
  {
   "cell_type": "markdown",
   "metadata": {},
   "source": [
    "### Target sequences"
   ]
  },
  {
   "cell_type": "code",
   "execution_count": 90,
   "metadata": {
    "collapsed": true
   },
   "outputs": [],
   "source": [
    "def create_target_fasta(DEgenes1, CDS_start_points1, genome, target_outfile, upstream_nucl):\n",
    "    genome = Fasta(genome)\n",
    "    outfile = open(target_outfile, \"w\")\n",
    "    newdf = pd.merge(DEgenes1, CDS_start_points1)\n",
    "    seq_list = []\n",
    "    seq_dict= {}\n",
    "\n",
    "    for index, row in newdf.iterrows():\n",
    "        genes = row['gene_id']\n",
    "        if row['start'] > upstream_nucl:\n",
    "            sequences = genome[row['seqid']][row['start'] - upstream_nucl:row['start'] + 3]\n",
    "        else:\n",
    "            sequences = genome[row['seqid']][row['start'] - row['start']:row['start']]\n",
    "        seq_dict[genes] = sequences\n",
    "        seq_list.append(seq_dict)\n",
    "        seq_dict = {}\n",
    "    \n",
    "    for d in seq_list:\n",
    "        for key, value in d.items():\n",
    "            outfile.write(\">\" + key + \" \" + value.fancy_name + \"\\n\" + value.seq + \"\\n\")\n",
    "    \n",
    "    outfile.close() \n",
    "    \n",
    "    return seq_list"
   ]
  },
  {
   "cell_type": "code",
   "execution_count": 91,
   "metadata": {},
   "outputs": [
    {
     "data": {
      "application/vnd.jupyter.widget-view+json": {
       "model_id": "0d493c73c54a4bb382c90ce0fbbceecc",
       "version_major": 2,
       "version_minor": 0
      },
      "text/html": [
       "<p>Failed to display Jupyter Widget of type <code>VBox</code>.</p>\n",
       "<p>\n",
       "  If you're reading this message in the Jupyter Notebook or JupyterLab Notebook, it may mean\n",
       "  that the widgets JavaScript is still loading. If this message persists, it\n",
       "  likely means that the widgets JavaScript library is either not installed or\n",
       "  not enabled. See the <a href=\"https://ipywidgets.readthedocs.io/en/stable/user_install.html\">Jupyter\n",
       "  Widgets Documentation</a> for setup instructions.\n",
       "</p>\n",
       "<p>\n",
       "  If you're reading this message in another frontend (for example, a static\n",
       "  rendering on GitHub or <a href=\"https://nbviewer.jupyter.org/\">NBViewer</a>),\n",
       "  it may mean that your frontend doesn't currently support widgets.\n",
       "</p>\n"
      ],
      "text/plain": [
       "VBox(children=(Text(value='', description='Output file'), IntSlider(value=5000, continuous_update=False, description='Sequence length', max=10000, min=100, step=100, style=SliderStyle(description_width='initial', handle_color='lightblue'))))"
      ]
     },
     "metadata": {},
     "output_type": "display_data"
    }
   ],
   "source": [
    "## Function parameters and styling of widgets\n",
    "target_outfile = widgets.Text(description = 'Output file', \n",
    "                              disabled=False)\n",
    "\n",
    "upstream_nucl2 = widgets.IntSlider(value=5000, min=100, max=10000, step=100, \n",
    "                                   description='Sequence length', \n",
    "                                   disabled=False, \n",
    "                                   continuous_update=False, \n",
    "                                   orientation='horizontal', \n",
    "                                   readout=True, \n",
    "                                   readout_format='d', \n",
    "                                   style=style)\n",
    "\n",
    "upstream_nucl2.style.handle_color = 'lightblue'\n",
    "\n",
    "ui4 = widgets.VBox([target_outfile, upstream_nucl2])\n",
    "\n",
    "display(ui4)"
   ]
  },
  {
   "cell_type": "code",
   "execution_count": 92,
   "metadata": {},
   "outputs": [
    {
     "data": {
      "application/vnd.jupyter.widget-view+json": {
       "model_id": "b1d482ec28374b2989c51def953cc422",
       "version_major": 2,
       "version_minor": 0
      },
      "text/html": [
       "<p>Failed to display Jupyter Widget of type <code>Button</code>.</p>\n",
       "<p>\n",
       "  If you're reading this message in the Jupyter Notebook or JupyterLab Notebook, it may mean\n",
       "  that the widgets JavaScript is still loading. If this message persists, it\n",
       "  likely means that the widgets JavaScript library is either not installed or\n",
       "  not enabled. See the <a href=\"https://ipywidgets.readthedocs.io/en/stable/user_install.html\">Jupyter\n",
       "  Widgets Documentation</a> for setup instructions.\n",
       "</p>\n",
       "<p>\n",
       "  If you're reading this message in another frontend (for example, a static\n",
       "  rendering on GitHub or <a href=\"https://nbviewer.jupyter.org/\">NBViewer</a>),\n",
       "  it may mean that your frontend doesn't currently support widgets.\n",
       "</p>\n"
      ],
      "text/plain": [
       "Button(button_style='info', description='Create Target Fasta', icon='check', layout=Layout(height='40px', width='30%'), style=ButtonStyle(font_weight='bold'), tooltip='Description')"
      ]
     },
     "metadata": {},
     "output_type": "display_data"
    },
    {
     "data": {
      "application/vnd.jupyter.widget-view+json": {
       "model_id": "68f8331ce4864fb6bd304646f36777e8",
       "version_major": 2,
       "version_minor": 0
      },
      "text/html": [
       "<p>Failed to display Jupyter Widget of type <code>Output</code>.</p>\n",
       "<p>\n",
       "  If you're reading this message in the Jupyter Notebook or JupyterLab Notebook, it may mean\n",
       "  that the widgets JavaScript is still loading. If this message persists, it\n",
       "  likely means that the widgets JavaScript library is either not installed or\n",
       "  not enabled. See the <a href=\"https://ipywidgets.readthedocs.io/en/stable/user_install.html\">Jupyter\n",
       "  Widgets Documentation</a> for setup instructions.\n",
       "</p>\n",
       "<p>\n",
       "  If you're reading this message in another frontend (for example, a static\n",
       "  rendering on GitHub or <a href=\"https://nbviewer.jupyter.org/\">NBViewer</a>),\n",
       "  it may mean that your frontend doesn't currently support widgets.\n",
       "</p>\n"
      ],
      "text/plain": [
       "Output()"
      ]
     },
     "metadata": {},
     "output_type": "display_data"
    }
   ],
   "source": [
    "# Styling of button and configuration of button clicked\n",
    "\n",
    "button4=widgets.Button(description=\"Create Target Fasta\",\n",
    "                                layout=Layout(width='30%', height='40px'), \n",
    "                                button_style = 'info', \n",
    "                                style = {'font_weight': 'bold', 'font-size' : '30px'}, \n",
    "                                tooltip = 'Description', icon = 'check')\n",
    "\n",
    "out4=widgets.Output()\n",
    "\n",
    "def on_button_clicked(button4):\n",
    "\n",
    "    if genome.value == '':\n",
    "        with out4:\n",
    "            clear_output(wait = True)\n",
    "            print(\"Filepath to Genome file not provided\")\n",
    "            pass\n",
    "    \n",
    "    else: \n",
    "        with out4: \n",
    "            clear_output(wait = True)\n",
    "            DEgenes1 = get_degenes(filepath.value, gene_id.value, threshold.value, threshold_col_id.value)\n",
    "            CDS_start_points1 = get_features(gff.value, feature.value, search_gff.value, attribute.value, coord.value)\n",
    "            create_target_fasta(DEgenes1, CDS_start_points1, genome.value, target_outfile.value, upstream_nucl2.value)    \n",
    "            print(\"Your\", len(DEgenes1), \"target sequences are located in:\",target_outfile.value,\"and have a length of:\",upstream_nucl2.value,\"nucleotides\")\n",
    "\n",
    "button4.on_click(on_button_clicked)\n",
    "\n",
    "display(button4, out4)"
   ]
  },
  {
   "cell_type": "markdown",
   "metadata": {},
   "source": [
    "# Additional Functions"
   ]
  },
  {
   "cell_type": "markdown",
   "metadata": {},
   "source": [
    "## Extract sequences from the genome\n",
    "The gene ID entered in the 'Find Gene ID' field must match the gene ID in the GFF file tagged with the label in the field 'GeneID tag in GFF'"
   ]
  },
  {
   "cell_type": "code",
   "execution_count": 114,
   "metadata": {},
   "outputs": [],
   "source": [
    "def extract_gene_sequences(gff, feature, search_gff, genome, query_gene):\n",
    "    col_names = ['seqid', 'source', 'type', 'start', 'end', 'score', 'strand', 'phase', 'attributes']\n",
    "    mygff = pd.read_csv(gff, sep='\\t', comment='#', low_memory=False, header=None, names=col_names)\n",
    "    mygff = mygff[mygff.type == feature]\n",
    "    mygff = mygff.copy()\n",
    "\n",
    "    RE_GENE_NAME = re.compile(r'({}\\W)(?P<gene_id>.+?)[,;]'.format(search_gff))\n",
    "    def extract_gene_name(attributes_str):\n",
    "        res = RE_GENE_NAME.search(attributes_str)\n",
    "        if res is None:\n",
    "            return ''\n",
    "        else:\n",
    "            return res.group('gene_id')\n",
    "    mygff['gene_id'] = mygff.attributes.apply(extract_gene_name)\n",
    "    mygff.drop('attributes', axis=1, inplace=True)\n",
    "    \n",
    "    genome = Fasta(genome)\n",
    "    \n",
    "    mygff_idx = mygff.set_index('gene_id')\n",
    "    \n",
    "    if query_gene not in mygff_idx.index:           \n",
    "        print(\"Gene query was not found in GFF\")\n",
    "        pass\n",
    "    \n",
    "    else: \n",
    "      \n",
    "        seq_list = []\n",
    "        seq_dict = {}\n",
    "    \n",
    "        genes = mygff_idx.loc[query_gene]\n",
    "       \n",
    "        if feature == 'gene':\n",
    "            seqid = mygff_idx.loc[query_gene]['seqid']\n",
    "            start = mygff_idx.loc[query_gene]['start']\n",
    "            end = mygff_idx.loc[query_gene]['end']\n",
    "            sequence = genome[seqid][start:end]\n",
    "            seq_dict[query_gene] = sequence\n",
    "            seq_list.append(seq_dict)\n",
    "        \n",
    "        elif len(genes.axes) == 1:\n",
    "            seqid = mygff_idx.loc[query_gene]['seqid']\n",
    "            start = mygff_idx.loc[query_gene]['start']\n",
    "            end = mygff_idx.loc[query_gene]['end']\n",
    "            sequence = genome[seqid][start:end]\n",
    "            seq_dict[query_gene] = sequence\n",
    "            seq_list.append(seq_dict)\n",
    "        \n",
    "        else:\n",
    "            genes = mygff_idx.loc[query_gene].index\n",
    "            seqid = mygff_idx.loc[query_gene]['seqid']\n",
    "            start = mygff_idx.loc[query_gene]['start']\n",
    "            end = mygff_idx.loc[query_gene]['end']\n",
    "\n",
    "            for gene, x, y, z in zip(genes, seqid, start, end):\n",
    "                sequence = genome[x][y - 1:z]\n",
    "                seq_dict[gene] = sequence\n",
    "                seq_list.append(seq_dict)\n",
    "                seq_dict = {}\n",
    "    \n",
    "        return seq_list"
   ]
  },
  {
   "cell_type": "code",
   "execution_count": 111,
   "metadata": {},
   "outputs": [
    {
     "data": {
      "application/vnd.jupyter.widget-view+json": {
       "model_id": "8f27ea8a875b411d98e565fb585e1b10",
       "version_major": 2,
       "version_minor": 0
      },
      "text/html": [
       "<p>Failed to display Jupyter Widget of type <code>VBox</code>.</p>\n",
       "<p>\n",
       "  If you're reading this message in the Jupyter Notebook or JupyterLab Notebook, it may mean\n",
       "  that the widgets JavaScript is still loading. If this message persists, it\n",
       "  likely means that the widgets JavaScript library is either not installed or\n",
       "  not enabled. See the <a href=\"https://ipywidgets.readthedocs.io/en/stable/user_install.html\">Jupyter\n",
       "  Widgets Documentation</a> for setup instructions.\n",
       "</p>\n",
       "<p>\n",
       "  If you're reading this message in another frontend (for example, a static\n",
       "  rendering on GitHub or <a href=\"https://nbviewer.jupyter.org/\">NBViewer</a>),\n",
       "  it may mean that your frontend doesn't currently support widgets.\n",
       "</p>\n"
      ],
      "text/plain": [
       "VBox(children=(Text(value='/OSM/CBR/AF_POMV/work/POMV_RNA_seq/Genomes/Salmo_salar/GCF_000233375.1_ICSASG_v2_genomic.gff', description='GFF:'), RadioButtons(description='Feature:', options=('gene', 'CDS', 'exon'), value='gene'), Text(value='GeneID', description='GeneID tag in GFF', style=DescriptionStyle(description_width='initial')), Text(value='/OSM/CBR/AF_POMV/work/POMV_RNA_seq/Genomes/Salmo_salar//GCF_000233375.1_ICSASG_v2_genomic.fna', description='Genome:'), Text(value='', description='Find Gene ID', style=DescriptionStyle(description_width='initial'))))"
      ]
     },
     "metadata": {},
     "output_type": "display_data"
    }
   ],
   "source": [
    "## Function parameters and styling of widgets\n",
    "\n",
    "gff2 = widgets.Text(value = '/OSM/CBR/AF_POMV/work/POMV_RNA_seq/Genomes/Salmo_salar/GCF_000233375.1_ICSASG_v2_genomic.gff', \n",
    "                    description='GFF:',disabled=False)\n",
    "\n",
    "feature2 = widgets.RadioButtons(options=['gene', 'CDS', 'exon'], \n",
    "                                value = 'gene', \n",
    "                                description='Feature:', \n",
    "                                disabled=False)\n",
    "\n",
    "search_gff2 = widgets.Text(value = 'GeneID', \n",
    "                           description='GeneID tag in GFF', \n",
    "                           disabled=False, \n",
    "                           style=style)\n",
    "\n",
    "genome2 = widgets.Text(value = '/OSM/CBR/AF_POMV/work/POMV_RNA_seq/Genomes/Salmo_salar//GCF_000233375.1_ICSASG_v2_genomic.fna', \n",
    "                       description='Genome:',\n",
    "                       disabled=False)\n",
    "\n",
    "query_gene = widgets.Text(description='Find Gene ID', \n",
    "                          disabled=False, \n",
    "                          style=style)\n",
    "\n",
    "ui5 = widgets.VBox([gff2, feature2, search_gff2, genome2, query_gene])\n",
    "\n",
    "display(ui5)"
   ]
  },
  {
   "cell_type": "code",
   "execution_count": 115,
   "metadata": {},
   "outputs": [
    {
     "data": {
      "application/vnd.jupyter.widget-view+json": {
       "model_id": "aa4a8a3a75864f07900791b078afd9ef",
       "version_major": 2,
       "version_minor": 0
      },
      "text/html": [
       "<p>Failed to display Jupyter Widget of type <code>Button</code>.</p>\n",
       "<p>\n",
       "  If you're reading this message in the Jupyter Notebook or JupyterLab Notebook, it may mean\n",
       "  that the widgets JavaScript is still loading. If this message persists, it\n",
       "  likely means that the widgets JavaScript library is either not installed or\n",
       "  not enabled. See the <a href=\"https://ipywidgets.readthedocs.io/en/stable/user_install.html\">Jupyter\n",
       "  Widgets Documentation</a> for setup instructions.\n",
       "</p>\n",
       "<p>\n",
       "  If you're reading this message in another frontend (for example, a static\n",
       "  rendering on GitHub or <a href=\"https://nbviewer.jupyter.org/\">NBViewer</a>),\n",
       "  it may mean that your frontend doesn't currently support widgets.\n",
       "</p>\n"
      ],
      "text/plain": [
       "Button(button_style='info', description='Find Gene Sequence', icon='check', layout=Layout(height='40px', width='30%'), style=ButtonStyle(font_weight='bold'), tooltip='Description')"
      ]
     },
     "metadata": {},
     "output_type": "display_data"
    },
    {
     "data": {
      "application/vnd.jupyter.widget-view+json": {
       "model_id": "d2a7251d61d84288b9a50cd3e2fe14f1",
       "version_major": 2,
       "version_minor": 0
      },
      "text/html": [
       "<p>Failed to display Jupyter Widget of type <code>Output</code>.</p>\n",
       "<p>\n",
       "  If you're reading this message in the Jupyter Notebook or JupyterLab Notebook, it may mean\n",
       "  that the widgets JavaScript is still loading. If this message persists, it\n",
       "  likely means that the widgets JavaScript library is either not installed or\n",
       "  not enabled. See the <a href=\"https://ipywidgets.readthedocs.io/en/stable/user_install.html\">Jupyter\n",
       "  Widgets Documentation</a> for setup instructions.\n",
       "</p>\n",
       "<p>\n",
       "  If you're reading this message in another frontend (for example, a static\n",
       "  rendering on GitHub or <a href=\"https://nbviewer.jupyter.org/\">NBViewer</a>),\n",
       "  it may mean that your frontend doesn't currently support widgets.\n",
       "</p>\n"
      ],
      "text/plain": [
       "Output()"
      ]
     },
     "metadata": {},
     "output_type": "display_data"
    }
   ],
   "source": [
    "# Styling of button and configuration of button clicked\n",
    "\n",
    "button_gene = widgets.Button(description=\"Find Gene Sequence\",\n",
    "                                    layout=Layout(width='30%', height='40px'), \n",
    "                                    button_style = 'info', \n",
    "                                    style = {'font_weight': 'bold', 'font-size' : '30px'}, \n",
    "                                    tooltip = 'Description', \n",
    "                                    icon = 'check')\n",
    "\n",
    "out_gene=widgets.Output()\n",
    "\n",
    "def on_button_clicked(button_gene):\n",
    "    \n",
    "    if query_gene.value == '':\n",
    "        with out_gene:\n",
    "            clear_output(wait = True)\n",
    "            print(\"Gene ID not provided\")\n",
    "            pass\n",
    "\n",
    "    else: \n",
    "        with out_gene: \n",
    "            clear_output(wait = True)\n",
    "            myseq = extract_gene_sequences(gff2.value, feature2.value, search_gff2.value, genome2.value, query_gene.value)\n",
    "            print(myseq)\n",
    "            \n",
    "button_gene.on_click(on_button_clicked)\n",
    "\n",
    "display(button_gene, out_gene)"
   ]
  },
  {
   "cell_type": "code",
   "execution_count": 47,
   "metadata": {},
   "outputs": [
    {
     "data": {
      "text/html": [
       "<script>\n",
       "code_show=true; \n",
       "function code_toggle() {\n",
       " if (code_show){\n",
       " $('div.input').hide();\n",
       " } else {\n",
       " $('div.input').show();\n",
       " }\n",
       " code_show = !code_show\n",
       "} \n",
       "$( document ).ready(code_toggle);\n",
       "</script>\n",
       "<form action=\"javascript:code_toggle()\"><input type=\"submit\" value=\"Click here to toggle on/off the raw code.\"></form>"
      ],
      "text/plain": [
       "<IPython.core.display.HTML object>"
      ]
     },
     "execution_count": 47,
     "metadata": {},
     "output_type": "execute_result"
    }
   ],
   "source": [
    "from IPython.display import HTML\n",
    "\n",
    "HTML('''<script>\n",
    "code_show=true; \n",
    "function code_toggle() {\n",
    " if (code_show){\n",
    " $('div.input').hide();\n",
    " } else {\n",
    " $('div.input').show();\n",
    " }\n",
    " code_show = !code_show\n",
    "} \n",
    "$( document ).ready(code_toggle);\n",
    "</script>\n",
    "<form action=\"javascript:code_toggle()\"><input type=\"submit\" value=\"Click here to toggle on/off the raw code.\"></form>''')"
   ]
  },
  {
   "cell_type": "code",
   "execution_count": null,
   "metadata": {
    "collapsed": true
   },
   "outputs": [],
   "source": []
  },
  {
   "cell_type": "code",
   "execution_count": null,
   "metadata": {
    "collapsed": true
   },
   "outputs": [],
   "source": []
  }
 ],
 "metadata": {
  "kernelspec": {
   "display_name": "Python 3",
   "language": "python",
   "name": "python3"
  },
  "language_info": {
   "codemirror_mode": {
    "name": "ipython",
    "version": 3
   },
   "file_extension": ".py",
   "mimetype": "text/x-python",
   "name": "python",
   "nbconvert_exporter": "python",
   "pygments_lexer": "ipython3",
   "version": "3.6.1"
  }
 },
 "nbformat": 4,
 "nbformat_minor": 2
}
