{
 "cells": [
  {
   "cell_type": "code",
   "execution_count": 2,
   "metadata": {},
   "outputs": [],
   "source": [
    "# Import the widgets\n",
    "# https://ipython-books.github.io/33-mastering-widgets-in-the-jupyter-notebook/\n",
    "from ipywidgets import widgets, interact, interactive"
   ]
  },
  {
   "cell_type": "code",
   "execution_count": 3,
   "metadata": {},
   "outputs": [],
   "source": [
    "# Import the display function for explicitly displaying widgets in the notebook\n",
    "from IPython.display import display"
   ]
  },
  {
   "cell_type": "markdown",
   "metadata": {},
   "source": [
    "### 1. Filter differentially expressed genes by logFC values"
   ]
  },
  {
   "cell_type": "code",
   "execution_count": 4,
   "metadata": {},
   "outputs": [],
   "source": [
    "# Import packages for first function\n",
    "import pandas as pd\n",
    "import numpy as np\n",
    "import math\n",
    "\n",
    "def get_degenes(filepath, gene_id, threshold, threshold_col_id):\n",
    "    genes = pd.read_csv(filepath)\n",
    "    genes = genes.dropna()   \n",
    "    if genes[gene_id].dtypes == float:\n",
    "        genes = genes.astype({gene_id:int})\n",
    "        genes = genes.astype({gene_id:str})\n",
    "        pass\n",
    "    elif genes[gene_id].dtypes == int:\n",
    "        genes = genes.astype({gene_id:str})\n",
    "    else:\n",
    "        print(\"gene names are strings, great!\")\n",
    "    \n",
    "    DEgenes = genes.loc[(genes[threshold_col_id] >= threshold) | (genes[threshold_col_id] <= -threshold)]\n",
    "    DEgenes = DEgenes[[gene_id]]\n",
    "    \n",
    "    return DEgenes"
   ]
  },
  {
   "cell_type": "code",
   "execution_count": 5,
   "metadata": {},
   "outputs": [
    {
     "data": {
      "application/vnd.jupyter.widget-view+json": {
       "model_id": "e180639e6e824ae59c4f37e623dacf68",
       "version_major": 2,
       "version_minor": 0
      },
      "text/plain": [
       "VBox(children=(Text(value='', description='Filepath:'), Text(value='ENTREZID', description='Gene ID:'), Text(v…"
      ]
     },
     "metadata": {},
     "output_type": "display_data"
    }
   ],
   "source": [
    "style = {'description_width': 'initial'}\n",
    "#filepath = widgets.Text(value = '/Volumes/HOME_INTEL/RNAseq-POMV/Results/ControlvsPOMV6_ALL.csv', description='Filepath:',disabled=False)\n",
    "filepath = widgets.Text(description='Filepath:',disabled=False)\n",
    "gene_id = widgets.Text(value = 'ENTREZID', description='Gene ID:', disabled=False)\n",
    "threshold_col_id = widgets.Text(value = 'logFC', description='Threshold column ID:', disabled=False, style=style)\n",
    "threshold = widgets.IntSlider(value=2, min=1, max=10, step=1, description='Threshold', disabled=False, continuous_update=False, orientation='horizontal', readout=True, readout_format='d', style=style)\n",
    "threshold.style.handle_color = 'lightblue'\n",
    "ui = widgets.VBox([filepath, gene_id, threshold_col_id, threshold])\n",
    "display(ui)"
   ]
  },
  {
   "cell_type": "code",
   "execution_count": 6,
   "metadata": {},
   "outputs": [
    {
     "data": {
      "application/vnd.jupyter.widget-view+json": {
       "model_id": "96eddb2f02ad4608a9d0dbe68ceeebe4",
       "version_major": 2,
       "version_minor": 0
      },
      "text/plain": [
       "Button(description='Get differentially expressed genes', layout=Layout(height='40px', width='60%'), style=Butt…"
      ]
     },
     "metadata": {},
     "output_type": "display_data"
    }
   ],
   "source": [
    "from ipywidgets import Button, Layout\n",
    "button = widgets.Button(description=\"Get differentially expressed genes\", layout=Layout(width='60%', height='40px'))\n",
    "button.style.button_color = \"lightblue\" \n",
    "display(button)\n",
    "def on_button_clicked(button):\n",
    "    DEgenes = get_degenes(filepath.value, gene_id.value, threshold.value, threshold_col_id.value)\n",
    "    print(\"Total number of differentially expressed genes:\", len(DEgenes))\n",
    "\n",
    "button.on_click(on_button_clicked)"
   ]
  },
  {
   "cell_type": "code",
   "execution_count": null,
   "metadata": {},
   "outputs": [],
   "source": []
  },
  {
   "cell_type": "code",
   "execution_count": 1,
   "metadata": {},
   "outputs": [
    {
     "data": {
      "text/html": [
       "<script>\n",
       "code_show=true; \n",
       "function code_toggle() {\n",
       " if (code_show){\n",
       " $('div.input').hide();\n",
       " } else {\n",
       " $('div.input').show();\n",
       " }\n",
       " code_show = !code_show\n",
       "} \n",
       "$( document ).ready(code_toggle);\n",
       "</script>\n",
       "<form action=\"javascript:code_toggle()\"><input type=\"submit\" value=\"Click here to toggle on/off the raw code.\"></form>"
      ],
      "text/plain": [
       "<IPython.core.display.HTML object>"
      ]
     },
     "execution_count": 1,
     "metadata": {},
     "output_type": "execute_result"
    }
   ],
   "source": [
    "from IPython.display import HTML\n",
    "\n",
    "HTML('''<script>\n",
    "code_show=true; \n",
    "function code_toggle() {\n",
    " if (code_show){\n",
    " $('div.input').hide();\n",
    " } else {\n",
    " $('div.input').show();\n",
    " }\n",
    " code_show = !code_show\n",
    "} \n",
    "$( document ).ready(code_toggle);\n",
    "</script>\n",
    "<form action=\"javascript:code_toggle()\"><input type=\"submit\" value=\"Click here to toggle on/off the raw code.\"></form>''')"
   ]
  }
 ],
 "metadata": {
  "kernelspec": {
   "display_name": "Python 3",
   "language": "python",
   "name": "python3"
  },
  "language_info": {
   "codemirror_mode": {
    "name": "ipython",
    "version": 3
   },
   "file_extension": ".py",
   "mimetype": "text/x-python",
   "name": "python",
   "nbconvert_exporter": "python",
   "pygments_lexer": "ipython3",
   "version": "3.6.5"
  }
 },
 "nbformat": 4,
 "nbformat_minor": 2
}
